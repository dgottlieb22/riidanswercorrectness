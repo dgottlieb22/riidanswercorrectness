{
 "cells": [
  {
   "cell_type": "code",
   "execution_count": 1,
   "metadata": {
    "execution": {
     "iopub.execute_input": "2020-12-09T16:12:04.037869Z",
     "iopub.status.busy": "2020-12-09T16:12:04.037182Z",
     "iopub.status.idle": "2020-12-09T16:12:05.059326Z",
     "shell.execute_reply": "2020-12-09T16:12:05.058676Z"
    },
    "papermill": {
     "duration": 1.035756,
     "end_time": "2020-12-09T16:12:05.059440",
     "exception": false,
     "start_time": "2020-12-09T16:12:04.023684",
     "status": "completed"
    },
    "tags": []
   },
   "outputs": [],
   "source": [
    "import pandas as pd\n",
    "import lightgbm as lgb\n",
    "from matplotlib import pyplot as plt"
   ]
  },
  {
   "cell_type": "code",
   "execution_count": 2,
   "metadata": {
    "execution": {
     "iopub.execute_input": "2020-12-09T16:12:05.086169Z",
     "iopub.status.busy": "2020-12-09T16:12:05.085505Z",
     "iopub.status.idle": "2020-12-09T16:12:40.928354Z",
     "shell.execute_reply": "2020-12-09T16:12:40.928829Z"
    },
    "papermill": {
     "duration": 35.859199,
     "end_time": "2020-12-09T16:12:40.928994",
     "exception": false,
     "start_time": "2020-12-09T16:12:05.069795",
     "status": "completed"
    },
    "tags": []
   },
   "outputs": [
    {
     "name": "stdout",
     "output_type": "stream",
     "text": [
      "CPU times: user 5.29 s, sys: 7.31 s, total: 12.6 s\n",
      "Wall time: 35.8 s\n"
     ]
    }
   ],
   "source": [
    "%%time\n",
    "#pickle file taken from _____ for improved loading speed\n",
    "features =  ['user_id', 'content_id', 'answered_correctly', 'prior_question_elapsed_time', 'prior_question_had_explanation']\n",
    "train_df = pd.read_pickle(\"../input/riiid-train-data-multiple-formats/riiid_train.pkl.gzip\")\n",
    "train_df = train_df[features]"
   ]
  },
  {
   "cell_type": "code",
   "execution_count": 3,
   "metadata": {
    "execution": {
     "iopub.execute_input": "2020-12-09T16:12:40.955863Z",
     "iopub.status.busy": "2020-12-09T16:12:40.955248Z",
     "iopub.status.idle": "2020-12-09T16:13:21.435016Z",
     "shell.execute_reply": "2020-12-09T16:13:21.434493Z"
    },
    "papermill": {
     "duration": 40.496287,
     "end_time": "2020-12-09T16:13:21.435137",
     "exception": false,
     "start_time": "2020-12-09T16:12:40.938850",
     "status": "completed"
    },
    "tags": []
   },
   "outputs": [],
   "source": [
    "#Eliminate rows with -1 values in the target\n",
    "train_df = train_df[train_df['answered_correctly'] != -1].reset_index(drop=True)\n",
    "#Replace null values with FALSE\n",
    "train_df.fillna(False, inplace=True)\n",
    "\n",
    "train_df['user_id'] = train_df['user_id'].astype('int32')\n",
    "train_df['content_id'] = train_df['content_id'].astype('int16')\n",
    "train_df['answered_correctly'] = train_df['answered_correctly'].astype('int8')\n",
    "train_df['prior_question_elapsed_time'] = train_df['prior_question_elapsed_time'].astype('float32')\n",
    "train_df['prior_question_had_explanation'] = train_df['prior_question_had_explanation'].astype('bool')"
   ]
  },
  {
   "cell_type": "code",
   "execution_count": 4,
   "metadata": {
    "execution": {
     "iopub.execute_input": "2020-12-09T16:13:21.462020Z",
     "iopub.status.busy": "2020-12-09T16:13:21.461287Z",
     "iopub.status.idle": "2020-12-09T16:13:36.240983Z",
     "shell.execute_reply": "2020-12-09T16:13:36.240290Z"
    },
    "papermill": {
     "duration": 14.795649,
     "end_time": "2020-12-09T16:13:36.241094",
     "exception": false,
     "start_time": "2020-12-09T16:13:21.445445",
     "status": "completed"
    },
    "tags": []
   },
   "outputs": [],
   "source": [
    "train_df['user'] = train_df.groupby('user_id')['answered_correctly'].shift()\n",
    "#Calculate ratio of correct answers of the whole answers provided by the user\n",
    "cumulated = train_df.groupby('user_id')['user'].agg(['cumsum', 'cumcount'])\n",
    "train_df['user_correctness'] = cumulated['cumsum'] / cumulated['cumcount']\n",
    "train_df.drop(columns=['user'], inplace=True)"
   ]
  },
  {
   "cell_type": "code",
   "execution_count": 5,
   "metadata": {
    "execution": {
     "iopub.execute_input": "2020-12-09T16:13:36.267802Z",
     "iopub.status.busy": "2020-12-09T16:13:36.267182Z",
     "iopub.status.idle": "2020-12-09T16:13:43.483900Z",
     "shell.execute_reply": "2020-12-09T16:13:43.483296Z"
    },
    "papermill": {
     "duration": 7.232531,
     "end_time": "2020-12-09T16:13:43.484033",
     "exception": false,
     "start_time": "2020-12-09T16:13:36.251502",
     "status": "completed"
    },
    "tags": []
   },
   "outputs": [],
   "source": [
    "user_agg = train_df.groupby('user_id')['answered_correctly'].agg(['sum', 'count'])\n",
    "content_agg = train_df.groupby('content_id')['answered_correctly'].agg(['sum', 'count'])"
   ]
  },
  {
   "cell_type": "code",
   "execution_count": 6,
   "metadata": {
    "execution": {
     "iopub.execute_input": "2020-12-09T16:13:43.509857Z",
     "iopub.status.busy": "2020-12-09T16:13:43.508768Z",
     "iopub.status.idle": "2020-12-09T16:13:50.237716Z",
     "shell.execute_reply": "2020-12-09T16:13:50.238198Z"
    },
    "papermill": {
     "duration": 6.743485,
     "end_time": "2020-12-09T16:13:50.238356",
     "exception": false,
     "start_time": "2020-12-09T16:13:43.494871",
     "status": "completed"
    },
    "tags": []
   },
   "outputs": [],
   "source": [
    "train_df = train_df.groupby('user_id').tail(60).reset_index(drop=True)"
   ]
  },
  {
   "cell_type": "code",
   "execution_count": 7,
   "metadata": {
    "execution": {
     "iopub.execute_input": "2020-12-09T16:13:50.270185Z",
     "iopub.status.busy": "2020-12-09T16:13:50.269570Z",
     "iopub.status.idle": "2020-12-09T16:13:53.241053Z",
     "shell.execute_reply": "2020-12-09T16:13:53.240527Z"
    },
    "papermill": {
     "duration": 2.99216,
     "end_time": "2020-12-09T16:13:53.241176",
     "exception": false,
     "start_time": "2020-12-09T16:13:50.249016",
     "status": "completed"
    },
    "tags": []
   },
   "outputs": [],
   "source": [
    "questions_df = pd.read_csv('../input/riiid-test-answer-prediction/questions.csv')[['question_id', 'part']]\n",
    "questions_df['question_id'] = questions_df['question_id'].astype('int16')\n",
    "questions_df['part'] = questions_df['part'].astype('int8')\n",
    "\n",
    "train_df = pd.merge(train_df, questions_df, left_on='content_id', right_on='question_id', how='left')\n",
    "train_df.drop(columns=['question_id'], inplace=True)"
   ]
  },
  {
   "cell_type": "code",
   "execution_count": 8,
   "metadata": {
    "execution": {
     "iopub.execute_input": "2020-12-09T16:13:53.269575Z",
     "iopub.status.busy": "2020-12-09T16:13:53.268152Z",
     "iopub.status.idle": "2020-12-09T16:13:53.797818Z",
     "shell.execute_reply": "2020-12-09T16:13:53.798292Z"
    },
    "papermill": {
     "duration": 0.54654,
     "end_time": "2020-12-09T16:13:53.798449",
     "exception": false,
     "start_time": "2020-12-09T16:13:53.251909",
     "status": "completed"
    },
    "tags": []
   },
   "outputs": [],
   "source": [
    "train_df['content_count'] = train_df['content_id'].map(content_agg['count']).astype('int32')\n",
    "train_df['content_id'] = train_df['content_id'].map(content_agg['sum'] / content_agg['count'])"
   ]
  },
  {
   "cell_type": "code",
   "execution_count": 9,
   "metadata": {
    "execution": {
     "iopub.execute_input": "2020-12-09T16:13:53.822800Z",
     "iopub.status.busy": "2020-12-09T16:13:53.822239Z",
     "iopub.status.idle": "2020-12-09T16:13:59.178601Z",
     "shell.execute_reply": "2020-12-09T16:13:59.178040Z"
    },
    "papermill": {
     "duration": 5.369624,
     "end_time": "2020-12-09T16:13:59.178720",
     "exception": false,
     "start_time": "2020-12-09T16:13:53.809096",
     "status": "completed"
    },
    "tags": []
   },
   "outputs": [],
   "source": [
    "valid_df = train_df.groupby('user_id').tail(15)\n",
    "train_df.drop(valid_df.index, inplace=True)"
   ]
  },
  {
   "cell_type": "code",
   "execution_count": 10,
   "metadata": {
    "execution": {
     "iopub.execute_input": "2020-12-09T16:13:59.206885Z",
     "iopub.status.busy": "2020-12-09T16:13:59.206103Z",
     "iopub.status.idle": "2020-12-09T16:13:59.210506Z",
     "shell.execute_reply": "2020-12-09T16:13:59.209809Z"
    },
    "papermill": {
     "duration": 0.020191,
     "end_time": "2020-12-09T16:13:59.210637",
     "exception": false,
     "start_time": "2020-12-09T16:13:59.190446",
     "status": "completed"
    },
    "tags": []
   },
   "outputs": [],
   "source": [
    "#Defining the features to consider after feature engineering\n",
    "features = [\n",
    "    'content_id',\n",
    "    'prior_question_elapsed_time',\n",
    "    'prior_question_had_explanation',\n",
    "    'user_correctness',\n",
    "    'part',\n",
    "    'content_count'\n",
    "]\n",
    "\n",
    "target = 'answered_correctly'"
   ]
  },
  {
   "cell_type": "code",
   "execution_count": 11,
   "metadata": {
    "execution": {
     "iopub.execute_input": "2020-12-09T16:13:59.237833Z",
     "iopub.status.busy": "2020-12-09T16:13:59.237093Z",
     "iopub.status.idle": "2020-12-09T16:13:59.240554Z",
     "shell.execute_reply": "2020-12-09T16:13:59.240005Z"
    },
    "papermill": {
     "duration": 0.019264,
     "end_time": "2020-12-09T16:13:59.240671",
     "exception": false,
     "start_time": "2020-12-09T16:13:59.221407",
     "status": "completed"
    },
    "tags": []
   },
   "outputs": [],
   "source": [
    "#Defining LightGBM parameters\n",
    "params = {\n",
    "    'objective': 'binary',\n",
    "    #'tree_method': 'hist\n",
    "    'metric': 'auc',\n",
    "    'learning_rate': 0.12,\n",
    "    'max_bin': 400,\n",
    "    'num_leaves': 80,\n",
    "    #'bagging_fraction': .6,\n",
    "    #'bagging_freq':2\n",
    "}"
   ]
  },
  {
   "cell_type": "code",
   "execution_count": 12,
   "metadata": {
    "execution": {
     "iopub.execute_input": "2020-12-09T16:13:59.267395Z",
     "iopub.status.busy": "2020-12-09T16:13:59.266680Z",
     "iopub.status.idle": "2020-12-09T16:13:59.269833Z",
     "shell.execute_reply": "2020-12-09T16:13:59.269343Z"
    },
    "papermill": {
     "duration": 0.018105,
     "end_time": "2020-12-09T16:13:59.269970",
     "exception": false,
     "start_time": "2020-12-09T16:13:59.251865",
     "status": "completed"
    },
    "tags": []
   },
   "outputs": [],
   "source": [
    "#tr_data = lgb.Dataset(train_df[features], label=train_df[target])\n",
    "#va_data = lgb.Dataset(valid_df[features], label=valid_df[target])"
   ]
  },
  {
   "cell_type": "code",
   "execution_count": 13,
   "metadata": {
    "execution": {
     "iopub.execute_input": "2020-12-09T16:13:59.299172Z",
     "iopub.status.busy": "2020-12-09T16:13:59.298120Z",
     "iopub.status.idle": "2020-12-09T16:13:59.302547Z",
     "shell.execute_reply": "2020-12-09T16:13:59.301970Z"
    },
    "papermill": {
     "duration": 0.021461,
     "end_time": "2020-12-09T16:13:59.302668",
     "exception": false,
     "start_time": "2020-12-09T16:13:59.281207",
     "status": "completed"
    },
    "tags": []
   },
   "outputs": [
    {
     "data": {
      "text/plain": [
       "'\\nmodel = lgb.train(\\n    params, \\n    tr_data, \\n    num_boost_round=12000,\\n    valid_sets=[tr_data, va_data], \\n    early_stopping_rounds=100,\\n    verbose_eval=50\\n)\\n'"
      ]
     },
     "execution_count": 13,
     "metadata": {},
     "output_type": "execute_result"
    }
   ],
   "source": [
    "#Training of the model\n",
    "'''\n",
    "model = lgb.train(\n",
    "    params, \n",
    "    tr_data, \n",
    "    num_boost_round=12000,\n",
    "    valid_sets=[tr_data, va_data], \n",
    "    early_stopping_rounds=100,\n",
    "    verbose_eval=50\n",
    ")\n",
    "'''\n",
    "#If you want to save the model\n",
    "# model.save_model(f'model.txt')"
   ]
  },
  {
   "cell_type": "code",
   "execution_count": 14,
   "metadata": {
    "execution": {
     "iopub.execute_input": "2020-12-09T16:13:59.330950Z",
     "iopub.status.busy": "2020-12-09T16:13:59.330181Z",
     "iopub.status.idle": "2020-12-09T16:13:59.333131Z",
     "shell.execute_reply": "2020-12-09T16:13:59.332571Z"
    },
    "papermill": {
     "duration": 0.019116,
     "end_time": "2020-12-09T16:13:59.333253",
     "exception": false,
     "start_time": "2020-12-09T16:13:59.314137",
     "status": "completed"
    },
    "tags": []
   },
   "outputs": [],
   "source": [
    "from sklearn.model_selection import KFold"
   ]
  },
  {
   "cell_type": "code",
   "execution_count": 15,
   "metadata": {
    "execution": {
     "iopub.execute_input": "2020-12-09T16:13:59.360793Z",
     "iopub.status.busy": "2020-12-09T16:13:59.360208Z",
     "iopub.status.idle": "2020-12-09T16:13:59.362750Z",
     "shell.execute_reply": "2020-12-09T16:13:59.362193Z"
    },
    "papermill": {
     "duration": 0.017826,
     "end_time": "2020-12-09T16:13:59.362856",
     "exception": false,
     "start_time": "2020-12-09T16:13:59.345030",
     "status": "completed"
    },
    "tags": []
   },
   "outputs": [],
   "source": [
    "#res = pd.DataFrame()\n",
    "#res['row_id'] = [i for i in range(6611282)]\n",
    "#res.loc[:, ['answered_correctly']] = 0\n",
    "models = []"
   ]
  },
  {
   "cell_type": "code",
   "execution_count": 16,
   "metadata": {
    "execution": {
     "iopub.execute_input": "2020-12-09T16:13:59.389610Z",
     "iopub.status.busy": "2020-12-09T16:13:59.388987Z",
     "iopub.status.idle": "2020-12-09T22:05:08.484322Z",
     "shell.execute_reply": "2020-12-09T22:05:08.484984Z"
    },
    "papermill": {
     "duration": 21069.110713,
     "end_time": "2020-12-09T22:05:08.485224",
     "exception": false,
     "start_time": "2020-12-09T16:13:59.374511",
     "status": "completed"
    },
    "tags": []
   },
   "outputs": [
    {
     "name": "stdout",
     "output_type": "stream",
     "text": [
      "Fold 0\n",
      "Training until validation scores don't improve for 50 rounds\n",
      "[50]\ttraining's auc: 0.752701\tvalid_1's auc: 0.741786\n",
      "[100]\ttraining's auc: 0.75342\tvalid_1's auc: 0.742353\n",
      "[150]\ttraining's auc: 0.753872\tvalid_1's auc: 0.742639\n",
      "[200]\ttraining's auc: 0.754281\tvalid_1's auc: 0.742787\n",
      "[250]\ttraining's auc: 0.75461\tvalid_1's auc: 0.742869\n",
      "[300]\ttraining's auc: 0.754972\tvalid_1's auc: 0.742987\n",
      "[350]\ttraining's auc: 0.755298\tvalid_1's auc: 0.743061\n",
      "[400]\ttraining's auc: 0.755605\tvalid_1's auc: 0.743122\n",
      "[450]\ttraining's auc: 0.755892\tvalid_1's auc: 0.743179\n",
      "[500]\ttraining's auc: 0.756193\tvalid_1's auc: 0.743216\n",
      "[550]\ttraining's auc: 0.756491\tvalid_1's auc: 0.74327\n",
      "[600]\ttraining's auc: 0.756762\tvalid_1's auc: 0.743306\n",
      "[650]\ttraining's auc: 0.757048\tvalid_1's auc: 0.743335\n",
      "[700]\ttraining's auc: 0.75728\tvalid_1's auc: 0.74334\n",
      "[750]\ttraining's auc: 0.757523\tvalid_1's auc: 0.743354\n",
      "[800]\ttraining's auc: 0.757783\tvalid_1's auc: 0.743368\n",
      "[850]\ttraining's auc: 0.758056\tvalid_1's auc: 0.743396\n",
      "[900]\ttraining's auc: 0.758317\tvalid_1's auc: 0.743409\n",
      "Early stopping, best iteration is:\n",
      "[895]\ttraining's auc: 0.758299\tvalid_1's auc: 0.743412\n",
      "Fold 1\n",
      "Training until validation scores don't improve for 50 rounds\n",
      "[50]\ttraining's auc: 0.752825\tvalid_1's auc: 0.741771\n",
      "[100]\ttraining's auc: 0.753551\tvalid_1's auc: 0.742388\n",
      "[150]\ttraining's auc: 0.754025\tvalid_1's auc: 0.742665\n",
      "[200]\ttraining's auc: 0.754452\tvalid_1's auc: 0.742861\n",
      "[250]\ttraining's auc: 0.754805\tvalid_1's auc: 0.742982\n",
      "[300]\ttraining's auc: 0.755108\tvalid_1's auc: 0.743054\n",
      "[350]\ttraining's auc: 0.755437\tvalid_1's auc: 0.743146\n",
      "[400]\ttraining's auc: 0.755761\tvalid_1's auc: 0.743205\n",
      "[450]\ttraining's auc: 0.756055\tvalid_1's auc: 0.743249\n",
      "[500]\ttraining's auc: 0.756357\tvalid_1's auc: 0.743291\n",
      "[550]\ttraining's auc: 0.75666\tvalid_1's auc: 0.743318\n",
      "[600]\ttraining's auc: 0.756939\tvalid_1's auc: 0.743345\n",
      "[650]\ttraining's auc: 0.7572\tvalid_1's auc: 0.743361\n",
      "[700]\ttraining's auc: 0.757443\tvalid_1's auc: 0.743367\n",
      "[750]\ttraining's auc: 0.757728\tvalid_1's auc: 0.743392\n",
      "[800]\ttraining's auc: 0.757963\tvalid_1's auc: 0.743406\n",
      "[850]\ttraining's auc: 0.758203\tvalid_1's auc: 0.743415\n",
      "Early stopping, best iteration is:\n",
      "[828]\ttraining's auc: 0.758099\tvalid_1's auc: 0.743423\n",
      "Fold 2\n",
      "Training until validation scores don't improve for 50 rounds\n",
      "[50]\ttraining's auc: 0.752853\tvalid_1's auc: 0.741744\n",
      "[100]\ttraining's auc: 0.753562\tvalid_1's auc: 0.742366\n",
      "[150]\ttraining's auc: 0.754088\tvalid_1's auc: 0.742691\n",
      "[200]\ttraining's auc: 0.754479\tvalid_1's auc: 0.742853\n",
      "[250]\ttraining's auc: 0.754824\tvalid_1's auc: 0.742961\n",
      "[300]\ttraining's auc: 0.755191\tvalid_1's auc: 0.743066\n",
      "[350]\ttraining's auc: 0.755494\tvalid_1's auc: 0.743119\n",
      "[400]\ttraining's auc: 0.755762\tvalid_1's auc: 0.74315\n",
      "[450]\ttraining's auc: 0.756047\tvalid_1's auc: 0.743194\n",
      "[500]\ttraining's auc: 0.75633\tvalid_1's auc: 0.743222\n",
      "[550]\ttraining's auc: 0.756601\tvalid_1's auc: 0.743251\n",
      "[600]\ttraining's auc: 0.756877\tvalid_1's auc: 0.74329\n",
      "[650]\ttraining's auc: 0.757141\tvalid_1's auc: 0.743305\n",
      "[700]\ttraining's auc: 0.757429\tvalid_1's auc: 0.743326\n",
      "[750]\ttraining's auc: 0.757685\tvalid_1's auc: 0.74333\n",
      "[800]\ttraining's auc: 0.757948\tvalid_1's auc: 0.743346\n",
      "[850]\ttraining's auc: 0.758206\tvalid_1's auc: 0.743354\n",
      "[900]\ttraining's auc: 0.758423\tvalid_1's auc: 0.743348\n",
      "Early stopping, best iteration is:\n",
      "[856]\ttraining's auc: 0.75823\tvalid_1's auc: 0.743355\n",
      "Fold 3\n",
      "Training until validation scores don't improve for 50 rounds\n",
      "[50]\ttraining's auc: 0.752807\tvalid_1's auc: 0.741755\n",
      "[100]\ttraining's auc: 0.753519\tvalid_1's auc: 0.742378\n",
      "[150]\ttraining's auc: 0.754011\tvalid_1's auc: 0.742648\n",
      "[200]\ttraining's auc: 0.754417\tvalid_1's auc: 0.742828\n",
      "[250]\ttraining's auc: 0.754824\tvalid_1's auc: 0.742971\n",
      "[300]\ttraining's auc: 0.755139\tvalid_1's auc: 0.743042\n",
      "[350]\ttraining's auc: 0.755453\tvalid_1's auc: 0.743112\n",
      "[400]\ttraining's auc: 0.755743\tvalid_1's auc: 0.743173\n",
      "[450]\ttraining's auc: 0.756035\tvalid_1's auc: 0.743208\n",
      "[500]\ttraining's auc: 0.756364\tvalid_1's auc: 0.743266\n",
      "[550]\ttraining's auc: 0.756673\tvalid_1's auc: 0.743305\n",
      "[600]\ttraining's auc: 0.756937\tvalid_1's auc: 0.743319\n",
      "[650]\ttraining's auc: 0.757188\tvalid_1's auc: 0.743323\n",
      "[700]\ttraining's auc: 0.757454\tvalid_1's auc: 0.743347\n",
      "[750]\ttraining's auc: 0.75771\tvalid_1's auc: 0.743353\n",
      "[800]\ttraining's auc: 0.757937\tvalid_1's auc: 0.743373\n",
      "[850]\ttraining's auc: 0.758194\tvalid_1's auc: 0.743383\n",
      "[900]\ttraining's auc: 0.758465\tvalid_1's auc: 0.743403\n",
      "[950]\ttraining's auc: 0.758731\tvalid_1's auc: 0.743416\n",
      "[1000]\ttraining's auc: 0.75896\tvalid_1's auc: 0.743419\n",
      "[1050]\ttraining's auc: 0.75921\tvalid_1's auc: 0.743421\n",
      "Early stopping, best iteration is:\n",
      "[1025]\ttraining's auc: 0.759089\tvalid_1's auc: 0.743427\n",
      "Fold 4\n",
      "Training until validation scores don't improve for 50 rounds\n",
      "[50]\ttraining's auc: 0.752733\tvalid_1's auc: 0.741759\n",
      "[100]\ttraining's auc: 0.753503\tvalid_1's auc: 0.742409\n",
      "[150]\ttraining's auc: 0.753922\tvalid_1's auc: 0.742653\n",
      "[200]\ttraining's auc: 0.75427\tvalid_1's auc: 0.742799\n",
      "[250]\ttraining's auc: 0.754638\tvalid_1's auc: 0.742932\n",
      "[300]\ttraining's auc: 0.754983\tvalid_1's auc: 0.743019\n",
      "[350]\ttraining's auc: 0.755314\tvalid_1's auc: 0.743101\n",
      "[400]\ttraining's auc: 0.755666\tvalid_1's auc: 0.7432\n",
      "[450]\ttraining's auc: 0.755966\tvalid_1's auc: 0.743245\n",
      "[500]\ttraining's auc: 0.756267\tvalid_1's auc: 0.743285\n",
      "[550]\ttraining's auc: 0.756543\tvalid_1's auc: 0.743311\n",
      "[600]\ttraining's auc: 0.756809\tvalid_1's auc: 0.743337\n",
      "[650]\ttraining's auc: 0.757085\tvalid_1's auc: 0.743347\n",
      "[700]\ttraining's auc: 0.757323\tvalid_1's auc: 0.743363\n",
      "[750]\ttraining's auc: 0.757586\tvalid_1's auc: 0.743384\n",
      "[800]\ttraining's auc: 0.757873\tvalid_1's auc: 0.743403\n",
      "[850]\ttraining's auc: 0.758088\tvalid_1's auc: 0.743408\n",
      "[900]\ttraining's auc: 0.758348\tvalid_1's auc: 0.743417\n",
      "[950]\ttraining's auc: 0.758616\tvalid_1's auc: 0.743428\n",
      "[1000]\ttraining's auc: 0.758868\tvalid_1's auc: 0.743434\n",
      "[1050]\ttraining's auc: 0.75911\tvalid_1's auc: 0.743434\n",
      "Early stopping, best iteration is:\n",
      "[1045]\ttraining's auc: 0.759085\tvalid_1's auc: 0.743437\n",
      "Fold 5\n",
      "Training until validation scores don't improve for 50 rounds\n",
      "[50]\ttraining's auc: 0.752715\tvalid_1's auc: 0.741782\n",
      "[100]\ttraining's auc: 0.753436\tvalid_1's auc: 0.742384\n",
      "[150]\ttraining's auc: 0.753945\tvalid_1's auc: 0.742687\n",
      "[200]\ttraining's auc: 0.754307\tvalid_1's auc: 0.742812\n",
      "[250]\ttraining's auc: 0.754691\tvalid_1's auc: 0.742945\n",
      "[300]\ttraining's auc: 0.755014\tvalid_1's auc: 0.743009\n",
      "[350]\ttraining's auc: 0.755319\tvalid_1's auc: 0.743051\n",
      "[400]\ttraining's auc: 0.75565\tvalid_1's auc: 0.743115\n",
      "[450]\ttraining's auc: 0.755906\tvalid_1's auc: 0.743137\n",
      "[500]\ttraining's auc: 0.756183\tvalid_1's auc: 0.74319\n",
      "[550]\ttraining's auc: 0.756458\tvalid_1's auc: 0.743197\n",
      "[600]\ttraining's auc: 0.756728\tvalid_1's auc: 0.743231\n",
      "[650]\ttraining's auc: 0.757032\tvalid_1's auc: 0.74326\n",
      "[700]\ttraining's auc: 0.757313\tvalid_1's auc: 0.743301\n",
      "[750]\ttraining's auc: 0.757578\tvalid_1's auc: 0.743319\n",
      "[800]\ttraining's auc: 0.757822\tvalid_1's auc: 0.743317\n",
      "Early stopping, best iteration is:\n",
      "[761]\ttraining's auc: 0.757628\tvalid_1's auc: 0.743324\n",
      "Fold 6\n",
      "Training until validation scores don't improve for 50 rounds\n",
      "[50]\ttraining's auc: 0.752798\tvalid_1's auc: 0.74178\n",
      "[100]\ttraining's auc: 0.753478\tvalid_1's auc: 0.742333\n",
      "[150]\ttraining's auc: 0.753962\tvalid_1's auc: 0.742613\n",
      "[200]\ttraining's auc: 0.754384\tvalid_1's auc: 0.742814\n",
      "[250]\ttraining's auc: 0.754736\tvalid_1's auc: 0.742928\n",
      "[300]\ttraining's auc: 0.755069\tvalid_1's auc: 0.743027\n",
      "[350]\ttraining's auc: 0.755405\tvalid_1's auc: 0.74313\n",
      "[400]\ttraining's auc: 0.75573\tvalid_1's auc: 0.743191\n",
      "[450]\ttraining's auc: 0.756003\tvalid_1's auc: 0.743225\n",
      "[500]\ttraining's auc: 0.756269\tvalid_1's auc: 0.743267\n",
      "[550]\ttraining's auc: 0.756582\tvalid_1's auc: 0.743316\n",
      "[600]\ttraining's auc: 0.756832\tvalid_1's auc: 0.743317\n",
      "[650]\ttraining's auc: 0.757097\tvalid_1's auc: 0.743342\n",
      "[700]\ttraining's auc: 0.757336\tvalid_1's auc: 0.74336\n",
      "[750]\ttraining's auc: 0.757624\tvalid_1's auc: 0.74338\n",
      "[800]\ttraining's auc: 0.757872\tvalid_1's auc: 0.74338\n",
      "Early stopping, best iteration is:\n",
      "[777]\ttraining's auc: 0.757758\tvalid_1's auc: 0.743383\n"
     ]
    }
   ],
   "source": [
    "K = 7\n",
    "for n, (tr, te) in enumerate(KFold(n_splits=K, random_state=626, shuffle=True).split(train_df[target])):\n",
    "    print(f'Fold {n}')\n",
    "    \n",
    "    tr_data = lgb.Dataset(train_df[features].values[tr], label=train_df[target].values[tr])\n",
    "    va_data = lgb.Dataset(valid_df[features].values, label=valid_df[target].values)\n",
    "    \n",
    "    \n",
    "    model = lgb.train(\n",
    "        params, \n",
    "        tr_data, \n",
    "        num_boost_round=2500,\n",
    "        valid_sets=[tr_data, va_data],        \n",
    "        early_stopping_rounds=50,\n",
    "        verbose_eval=50\n",
    "    )\n",
    "\n",
    "    #res.loc[te, ['answered_correctly']] = model.predict(train_df[features].values[te])\n",
    "    models.append(model)"
   ]
  },
  {
   "cell_type": "code",
   "execution_count": 17,
   "metadata": {
    "execution": {
     "iopub.execute_input": "2020-12-09T22:05:08.639399Z",
     "iopub.status.busy": "2020-12-09T22:05:08.638489Z",
     "iopub.status.idle": "2020-12-09T22:05:08.665192Z",
     "shell.execute_reply": "2020-12-09T22:05:08.666760Z"
    },
    "papermill": {
     "duration": 0.108155,
     "end_time": "2020-12-09T22:05:08.666939",
     "exception": false,
     "start_time": "2020-12-09T22:05:08.558784",
     "status": "completed"
    },
    "tags": []
   },
   "outputs": [],
   "source": [
    "import riiideducation"
   ]
  },
  {
   "cell_type": "code",
   "execution_count": 18,
   "metadata": {
    "execution": {
     "iopub.execute_input": "2020-12-09T22:05:08.766065Z",
     "iopub.status.busy": "2020-12-09T22:05:08.765437Z",
     "iopub.status.idle": "2020-12-09T22:05:08.769837Z",
     "shell.execute_reply": "2020-12-09T22:05:08.770332Z"
    },
    "papermill": {
     "duration": 0.055058,
     "end_time": "2020-12-09T22:05:08.770468",
     "exception": false,
     "start_time": "2020-12-09T22:05:08.715410",
     "status": "completed"
    },
    "tags": []
   },
   "outputs": [],
   "source": [
    "env = riiideducation.make_env()\n",
    "iter_test = env.iter_test()\n",
    "prior_test_df = None"
   ]
  },
  {
   "cell_type": "code",
   "execution_count": 19,
   "metadata": {
    "execution": {
     "iopub.execute_input": "2020-12-09T22:05:08.869717Z",
     "iopub.status.busy": "2020-12-09T22:05:08.869060Z",
     "iopub.status.idle": "2020-12-09T22:05:09.520874Z",
     "shell.execute_reply": "2020-12-09T22:05:09.521572Z"
    },
    "papermill": {
     "duration": 0.703941,
     "end_time": "2020-12-09T22:05:09.521756",
     "exception": false,
     "start_time": "2020-12-09T22:05:08.817815",
     "status": "completed"
    },
    "tags": []
   },
   "outputs": [],
   "source": [
    "for (test_df, sample_prediction_df) in iter_test:\n",
    "    if prior_test_df is not None:\n",
    "        prior_test_df[target] = eval(test_df['prior_group_answers_correct'].iloc[0])\n",
    "        prior_test_df = prior_test_df[prior_test_df[target] != -1].reset_index(drop=True)\n",
    "        \n",
    "        user_ids = prior_test_df['user_id'].values\n",
    "        content_ids = prior_test_df['content_id'].values\n",
    "        targets = prior_test_df[target].values\n",
    "        \n",
    "        for user_id, content_id, answered_correctly in zip(user_ids, content_ids, targets):\n",
    "            if user_id in user_agg.index:\n",
    "                user_agg.loc[user_id, 'sum'] += answered_correctly\n",
    "                user_agg.loc[user_id, 'count'] += 1\n",
    "            else:\n",
    "                user_agg.loc[user_id] = [answered_correctly, 1]\n",
    "            \n",
    "            if content_id in content_agg.index:\n",
    "                content_agg.loc[content_id, 'sum'] += answered_correctly\n",
    "                content_agg.loc[content_id, 'count'] += 1\n",
    "            else:\n",
    "                content_agg.loc[content_id] = [answered_correctly, 1]\n",
    "                \n",
    "    prior_test_df = test_df.copy()\n",
    "    \n",
    "    test_df = pd.merge(test_df, questions_df, left_on='content_id', right_on='question_id', how='left')\n",
    "    \n",
    "    test_df['prior_question_had_explanation'] = test_df['prior_question_had_explanation'].fillna(False).astype('bool')    \n",
    "    \n",
    "    test_df['user_correctness'] = test_df['user_id'].map(user_agg['sum'] / user_agg['count'])\n",
    "    \n",
    "    test_df['content_count'] = test_df['content_id'].map(content_agg['count']).fillna(1)\n",
    "    test_df['content_id'] = test_df['content_id'].map(content_agg['sum'] / content_agg['count']).fillna(0.7)\n",
    "    \n",
    "    preds = [model.predict(test_df[features]) for model in models]\n",
    "    \n",
    "    predictions = preds[0]\n",
    "    for i in range(1, K):\n",
    "        predictions += preds[i]\n",
    "    predictions /= K\n",
    "    \n",
    "    test_df['answered_correctly'] =  predictions\n",
    "    \n",
    "    env.predict(test_df.loc[test_df['content_type_id'] == 0, ['row_id', 'answered_correctly']])\n",
    "    "
   ]
  }
 ],
 "metadata": {
  "kernelspec": {
   "display_name": "Python 3",
   "language": "python",
   "name": "python3"
  },
  "language_info": {
   "codemirror_mode": {
    "name": "ipython",
    "version": 3
   },
   "file_extension": ".py",
   "mimetype": "text/x-python",
   "name": "python",
   "nbconvert_exporter": "python",
   "pygments_lexer": "ipython3",
   "version": "3.7.6"
  },
  "papermill": {
   "duration": 21189.933434,
   "end_time": "2020-12-09T22:05:09.709890",
   "environment_variables": {},
   "exception": null,
   "input_path": "__notebook__.ipynb",
   "output_path": "__notebook__.ipynb",
   "parameters": {},
   "start_time": "2020-12-09T16:11:59.776456",
   "version": "2.1.0"
  }
 },
 "nbformat": 4,
 "nbformat_minor": 4
}
