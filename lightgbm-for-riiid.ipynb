{
 "cells": [
  {
   "cell_type": "markdown",
   "metadata": {
    "papermill": {
     "duration": 0.023209,
     "end_time": "2020-11-30T18:19:43.056648",
     "exception": false,
     "start_time": "2020-11-30T18:19:43.033439",
     "status": "completed"
    },
    "tags": []
   },
   "source": [
    "Here's a introductive LightGBM model used for predicting correct answers.\n",
    "For some memory issues faced with pandas library, it would be a nice idea to try datatable library known for speed and big data support which uses less memory, for more information about it you can read the following datatable documentation: https://datatable.readthedocs.io/en/latest/start/quick-start.html"
   ]
  },
  {
   "cell_type": "code",
   "execution_count": 1,
   "metadata": {
    "execution": {
     "iopub.execute_input": "2020-11-30T18:19:43.111550Z",
     "iopub.status.busy": "2020-11-30T18:19:43.110761Z",
     "iopub.status.idle": "2020-11-30T18:20:13.277577Z",
     "shell.execute_reply": "2020-11-30T18:20:13.278149Z"
    },
    "papermill": {
     "duration": 30.201271,
     "end_time": "2020-11-30T18:20:13.278389",
     "exception": false,
     "start_time": "2020-11-30T18:19:43.077118",
     "status": "completed"
    },
    "tags": []
   },
   "outputs": [
    {
     "name": "stdout",
     "output_type": "stream",
     "text": [
      "Processing /kaggle/input/python-datatable/datatable-0.11.0-cp37-cp37m-manylinux2010_x86_64.whl\r\n",
      "Installing collected packages: datatable\r\n",
      "Successfully installed datatable-0.11.0\r\n"
     ]
    }
   ],
   "source": [
    "!pip install ../input/python-datatable/datatable-0.11.0-cp37-cp37m-manylinux2010_x86_64.whl"
   ]
  },
  {
   "cell_type": "code",
   "execution_count": 2,
   "metadata": {
    "_cell_guid": "79c7e3d0-c299-4dcb-8224-4455121ee9b0",
    "_uuid": "d629ff2d2480ee46fbb7e2d37f6b5fab8052498a",
    "execution": {
     "iopub.execute_input": "2020-11-30T18:20:13.328192Z",
     "iopub.status.busy": "2020-11-30T18:20:13.327492Z",
     "iopub.status.idle": "2020-11-30T18:20:14.381658Z",
     "shell.execute_reply": "2020-11-30T18:20:14.380811Z"
    },
    "papermill": {
     "duration": 1.081107,
     "end_time": "2020-11-30T18:20:14.381783",
     "exception": false,
     "start_time": "2020-11-30T18:20:13.300676",
     "status": "completed"
    },
    "tags": []
   },
   "outputs": [
    {
     "data": {
      "text/html": [
       "<style type='text/css'>\n",
       ".datatable table.frame { margin-bottom: 0; }\n",
       ".datatable table.frame thead { border-bottom: none; }\n",
       ".datatable table.frame tr.coltypes td {  color: #FFFFFF;  line-height: 6px;  padding: 0 0.5em;}\n",
       ".datatable .bool    { background: #DDDD99; }\n",
       ".datatable .object  { background: #565656; }\n",
       ".datatable .int     { background: #5D9E5D; }\n",
       ".datatable .float   { background: #4040CC; }\n",
       ".datatable .str     { background: #CC4040; }\n",
       ".datatable .row_index {  background: var(--jp-border-color3);  border-right: 1px solid var(--jp-border-color0);  color: var(--jp-ui-font-color3);  font-size: 9px;}\n",
       ".datatable .frame tr.coltypes .row_index {  background: var(--jp-border-color0);}\n",
       ".datatable th:nth-child(2) { padding-left: 12px; }\n",
       ".datatable .hellipsis {  color: var(--jp-cell-editor-border-color);}\n",
       ".datatable .vellipsis {  background: var(--jp-layout-color0);  color: var(--jp-cell-editor-border-color);}\n",
       ".datatable .na {  color: var(--jp-cell-editor-border-color);  font-size: 80%;}\n",
       ".datatable .footer { font-size: 9px; }\n",
       ".datatable .frame_dimensions {  background: var(--jp-border-color3);  border-top: 1px solid var(--jp-border-color0);  color: var(--jp-ui-font-color3);  display: inline-block;  opacity: 0.6;  padding: 1px 10px 1px 5px;}\n",
       "</style>\n"
      ],
      "text/plain": [
       "<IPython.core.display.HTML object>"
      ]
     },
     "metadata": {},
     "output_type": "display_data"
    }
   ],
   "source": [
    "import pandas as pd\n",
    "import datatable as dt\n",
    "import lightgbm as lgb\n",
    "from matplotlib import pyplot as plt"
   ]
  },
  {
   "cell_type": "code",
   "execution_count": 3,
   "metadata": {
    "execution": {
     "iopub.execute_input": "2020-11-30T18:20:14.433223Z",
     "iopub.status.busy": "2020-11-30T18:20:14.432464Z",
     "iopub.status.idle": "2020-11-30T18:21:07.176887Z",
     "shell.execute_reply": "2020-11-30T18:21:07.176215Z"
    },
    "papermill": {
     "duration": 52.772534,
     "end_time": "2020-11-30T18:21:07.177029",
     "exception": false,
     "start_time": "2020-11-30T18:20:14.404495",
     "status": "completed"
    },
    "tags": []
   },
   "outputs": [],
   "source": [
    "features =  ['user_id', 'content_id', 'answered_correctly', 'prior_question_elapsed_time', 'prior_question_had_explanation']\n",
    "train_df = dt.fread('../input/riiid-test-answer-prediction/train.csv').to_pandas()\n",
    "train_df = train_df[features]"
   ]
  },
  {
   "cell_type": "code",
   "execution_count": 4,
   "metadata": {
    "execution": {
     "iopub.execute_input": "2020-11-30T18:21:07.235162Z",
     "iopub.status.busy": "2020-11-30T18:21:07.234366Z",
     "iopub.status.idle": "2020-11-30T18:21:07.244904Z",
     "shell.execute_reply": "2020-11-30T18:21:07.244158Z"
    },
    "papermill": {
     "duration": 0.044398,
     "end_time": "2020-11-30T18:21:07.245026",
     "exception": false,
     "start_time": "2020-11-30T18:21:07.200628",
     "status": "completed"
    },
    "tags": []
   },
   "outputs": [
    {
     "data": {
      "text/html": [
       "<div>\n",
       "<style scoped>\n",
       "    .dataframe tbody tr th:only-of-type {\n",
       "        vertical-align: middle;\n",
       "    }\n",
       "\n",
       "    .dataframe tbody tr th {\n",
       "        vertical-align: top;\n",
       "    }\n",
       "\n",
       "    .dataframe thead th {\n",
       "        text-align: right;\n",
       "    }\n",
       "</style>\n",
       "<table border=\"1\" class=\"dataframe\">\n",
       "  <thead>\n",
       "    <tr style=\"text-align: right;\">\n",
       "      <th></th>\n",
       "      <th>user_id</th>\n",
       "      <th>content_id</th>\n",
       "      <th>answered_correctly</th>\n",
       "      <th>prior_question_elapsed_time</th>\n",
       "      <th>prior_question_had_explanation</th>\n",
       "    </tr>\n",
       "  </thead>\n",
       "  <tbody>\n",
       "    <tr>\n",
       "      <th>0</th>\n",
       "      <td>115</td>\n",
       "      <td>5692</td>\n",
       "      <td>1</td>\n",
       "      <td>NaN</td>\n",
       "      <td>NaN</td>\n",
       "    </tr>\n",
       "    <tr>\n",
       "      <th>1</th>\n",
       "      <td>115</td>\n",
       "      <td>5716</td>\n",
       "      <td>1</td>\n",
       "      <td>37000.0</td>\n",
       "      <td>False</td>\n",
       "    </tr>\n",
       "    <tr>\n",
       "      <th>2</th>\n",
       "      <td>115</td>\n",
       "      <td>128</td>\n",
       "      <td>1</td>\n",
       "      <td>55000.0</td>\n",
       "      <td>False</td>\n",
       "    </tr>\n",
       "    <tr>\n",
       "      <th>3</th>\n",
       "      <td>115</td>\n",
       "      <td>7860</td>\n",
       "      <td>1</td>\n",
       "      <td>19000.0</td>\n",
       "      <td>False</td>\n",
       "    </tr>\n",
       "    <tr>\n",
       "      <th>4</th>\n",
       "      <td>115</td>\n",
       "      <td>7922</td>\n",
       "      <td>1</td>\n",
       "      <td>11000.0</td>\n",
       "      <td>False</td>\n",
       "    </tr>\n",
       "  </tbody>\n",
       "</table>\n",
       "</div>"
      ],
      "text/plain": [
       "   user_id  content_id  answered_correctly  prior_question_elapsed_time  \\\n",
       "0      115        5692                   1                          NaN   \n",
       "1      115        5716                   1                      37000.0   \n",
       "2      115         128                   1                      55000.0   \n",
       "3      115        7860                   1                      19000.0   \n",
       "4      115        7922                   1                      11000.0   \n",
       "\n",
       "  prior_question_had_explanation  \n",
       "0                            NaN  \n",
       "1                          False  \n",
       "2                          False  \n",
       "3                          False  \n",
       "4                          False  "
      ]
     },
     "execution_count": 4,
     "metadata": {},
     "output_type": "execute_result"
    }
   ],
   "source": [
    "train_df.head()"
   ]
  },
  {
   "cell_type": "markdown",
   "metadata": {
    "papermill": {
     "duration": 0.02282,
     "end_time": "2020-11-30T18:21:07.290998",
     "exception": false,
     "start_time": "2020-11-30T18:21:07.268178",
     "status": "completed"
    },
    "tags": []
   },
   "source": [
    "# Preprocessing\n",
    "Let's add some preprocessing to add more information and features to the training dataset"
   ]
  },
  {
   "cell_type": "code",
   "execution_count": 5,
   "metadata": {
    "execution": {
     "iopub.execute_input": "2020-11-30T18:21:07.342829Z",
     "iopub.status.busy": "2020-11-30T18:21:07.342053Z",
     "iopub.status.idle": "2020-11-30T18:21:08.069847Z",
     "shell.execute_reply": "2020-11-30T18:21:08.069102Z"
    },
    "papermill": {
     "duration": 0.755817,
     "end_time": "2020-11-30T18:21:08.069967",
     "exception": false,
     "start_time": "2020-11-30T18:21:07.314150",
     "status": "completed"
    },
    "tags": []
   },
   "outputs": [
    {
     "data": {
      "text/plain": [
       "array([ 1,  0, -1], dtype=int32)"
      ]
     },
     "execution_count": 5,
     "metadata": {},
     "output_type": "execute_result"
    }
   ],
   "source": [
    "train_df['answered_correctly'].unique()"
   ]
  },
  {
   "cell_type": "markdown",
   "metadata": {
    "papermill": {
     "duration": 0.023541,
     "end_time": "2020-11-30T18:21:08.117325",
     "exception": false,
     "start_time": "2020-11-30T18:21:08.093784",
     "status": "completed"
    },
    "tags": []
   },
   "source": [
    "As you see in this column 'answered_correctly' there are some indesired values which add noise to the data as well as for the predicted results of the model so it's a good habit to get rid of all empty and inapropriate values within the columns that we need for"
   ]
  },
  {
   "cell_type": "code",
   "execution_count": 6,
   "metadata": {
    "execution": {
     "iopub.execute_input": "2020-11-30T18:21:08.173701Z",
     "iopub.status.busy": "2020-11-30T18:21:08.172915Z",
     "iopub.status.idle": "2020-11-30T18:22:21.407328Z",
     "shell.execute_reply": "2020-11-30T18:22:21.406651Z"
    },
    "papermill": {
     "duration": 73.266459,
     "end_time": "2020-11-30T18:22:21.407464",
     "exception": false,
     "start_time": "2020-11-30T18:21:08.141005",
     "status": "completed"
    },
    "tags": []
   },
   "outputs": [],
   "source": [
    "#Eliminate rows with -1 values in the target\n",
    "train_df = train_df[train_df['answered_correctly'] != -1].reset_index(drop=True)\n",
    "#Replace null values with FALSE\n",
    "train_df.fillna(False, inplace=True)\n",
    "\n",
    "train_df['user_id'] = train_df['user_id'].astype('int32')\n",
    "train_df['content_id'] = train_df['content_id'].astype('int16')\n",
    "train_df['answered_correctly'] = train_df['answered_correctly'].astype('int8')\n",
    "train_df['prior_question_elapsed_time'] = train_df['prior_question_elapsed_time'].astype('float32')\n",
    "train_df['prior_question_had_explanation'] = train_df['prior_question_had_explanation'].astype('bool')"
   ]
  },
  {
   "cell_type": "code",
   "execution_count": 7,
   "metadata": {
    "execution": {
     "iopub.execute_input": "2020-11-30T18:22:21.463534Z",
     "iopub.status.busy": "2020-11-30T18:22:21.462762Z",
     "iopub.status.idle": "2020-11-30T18:22:39.587980Z",
     "shell.execute_reply": "2020-11-30T18:22:39.587347Z"
    },
    "papermill": {
     "duration": 18.156343,
     "end_time": "2020-11-30T18:22:39.588112",
     "exception": false,
     "start_time": "2020-11-30T18:22:21.431769",
     "status": "completed"
    },
    "tags": []
   },
   "outputs": [],
   "source": [
    "train_df['user'] = train_df.groupby('user_id')['answered_correctly'].shift()\n",
    "#Calculate ratio of correct answers of the whole answers provided by the user\n",
    "cumulated = train_df.groupby('user_id')['user'].agg(['cumsum', 'cumcount'])\n",
    "train_df['user_correctness'] = cumulated['cumsum'] / cumulated['cumcount']\n",
    "train_df.drop(columns=['user'], inplace=True)"
   ]
  },
  {
   "cell_type": "code",
   "execution_count": 8,
   "metadata": {
    "execution": {
     "iopub.execute_input": "2020-11-30T18:22:39.643573Z",
     "iopub.status.busy": "2020-11-30T18:22:39.642415Z",
     "iopub.status.idle": "2020-11-30T18:22:49.079076Z",
     "shell.execute_reply": "2020-11-30T18:22:49.079655Z"
    },
    "papermill": {
     "duration": 9.467307,
     "end_time": "2020-11-30T18:22:49.079822",
     "exception": false,
     "start_time": "2020-11-30T18:22:39.612515",
     "status": "completed"
    },
    "tags": []
   },
   "outputs": [],
   "source": [
    "user_agg = train_df.groupby('user_id')['answered_correctly'].agg(['sum', 'count'])\n",
    "content_agg = train_df.groupby('content_id')['answered_correctly'].agg(['sum', 'count'])"
   ]
  },
  {
   "cell_type": "code",
   "execution_count": 9,
   "metadata": {
    "execution": {
     "iopub.execute_input": "2020-11-30T18:22:49.134109Z",
     "iopub.status.busy": "2020-11-30T18:22:49.133381Z",
     "iopub.status.idle": "2020-11-30T18:22:56.723154Z",
     "shell.execute_reply": "2020-11-30T18:22:56.722389Z"
    },
    "papermill": {
     "duration": 7.619155,
     "end_time": "2020-11-30T18:22:56.723317",
     "exception": false,
     "start_time": "2020-11-30T18:22:49.104162",
     "status": "completed"
    },
    "tags": []
   },
   "outputs": [],
   "source": [
    "train_df = train_df.groupby('user_id').tail(60).reset_index(drop=True)"
   ]
  },
  {
   "cell_type": "code",
   "execution_count": 10,
   "metadata": {
    "execution": {
     "iopub.execute_input": "2020-11-30T18:22:56.785034Z",
     "iopub.status.busy": "2020-11-30T18:22:56.784252Z",
     "iopub.status.idle": "2020-11-30T18:22:59.793009Z",
     "shell.execute_reply": "2020-11-30T18:22:59.792395Z"
    },
    "papermill": {
     "duration": 3.045309,
     "end_time": "2020-11-30T18:22:59.793142",
     "exception": false,
     "start_time": "2020-11-30T18:22:56.747833",
     "status": "completed"
    },
    "tags": []
   },
   "outputs": [],
   "source": [
    "questions_df = pd.read_csv('../input/riiid-test-answer-prediction/questions.csv')[['question_id', 'part']]\n",
    "questions_df['question_id'] = questions_df['question_id'].astype('int16')\n",
    "questions_df['part'] = questions_df['part'].astype('int8')\n",
    "\n",
    "train_df = pd.merge(train_df, questions_df, left_on='content_id', right_on='question_id', how='left')\n",
    "train_df.drop(columns=['question_id'], inplace=True)"
   ]
  },
  {
   "cell_type": "code",
   "execution_count": 11,
   "metadata": {
    "execution": {
     "iopub.execute_input": "2020-11-30T18:22:59.850959Z",
     "iopub.status.busy": "2020-11-30T18:22:59.849556Z",
     "iopub.status.idle": "2020-11-30T18:23:00.365585Z",
     "shell.execute_reply": "2020-11-30T18:23:00.364856Z"
    },
    "papermill": {
     "duration": 0.547105,
     "end_time": "2020-11-30T18:23:00.365714",
     "exception": false,
     "start_time": "2020-11-30T18:22:59.818609",
     "status": "completed"
    },
    "tags": []
   },
   "outputs": [],
   "source": [
    "train_df['content_count'] = train_df['content_id'].map(content_agg['count']).astype('int32')\n",
    "train_df['content_id'] = train_df['content_id'].map(content_agg['sum'] / content_agg['count'])"
   ]
  },
  {
   "cell_type": "code",
   "execution_count": 12,
   "metadata": {
    "execution": {
     "iopub.execute_input": "2020-11-30T18:23:00.421693Z",
     "iopub.status.busy": "2020-11-30T18:23:00.420947Z",
     "iopub.status.idle": "2020-11-30T18:23:07.105986Z",
     "shell.execute_reply": "2020-11-30T18:23:07.105324Z"
    },
    "papermill": {
     "duration": 6.715189,
     "end_time": "2020-11-30T18:23:07.106107",
     "exception": false,
     "start_time": "2020-11-30T18:23:00.390918",
     "status": "completed"
    },
    "tags": []
   },
   "outputs": [],
   "source": [
    "valid_df = train_df.groupby('user_id').tail(15)\n",
    "train_df.drop(valid_df.index, inplace=True)"
   ]
  },
  {
   "cell_type": "code",
   "execution_count": 13,
   "metadata": {
    "execution": {
     "iopub.execute_input": "2020-11-30T18:23:07.171340Z",
     "iopub.status.busy": "2020-11-30T18:23:07.170459Z",
     "iopub.status.idle": "2020-11-30T18:23:07.175340Z",
     "shell.execute_reply": "2020-11-30T18:23:07.174621Z"
    },
    "papermill": {
     "duration": 0.044088,
     "end_time": "2020-11-30T18:23:07.175461",
     "exception": false,
     "start_time": "2020-11-30T18:23:07.131373",
     "status": "completed"
    },
    "tags": []
   },
   "outputs": [
    {
     "data": {
      "text/html": [
       "<div>\n",
       "<style scoped>\n",
       "    .dataframe tbody tr th:only-of-type {\n",
       "        vertical-align: middle;\n",
       "    }\n",
       "\n",
       "    .dataframe tbody tr th {\n",
       "        vertical-align: top;\n",
       "    }\n",
       "\n",
       "    .dataframe thead th {\n",
       "        text-align: right;\n",
       "    }\n",
       "</style>\n",
       "<table border=\"1\" class=\"dataframe\">\n",
       "  <thead>\n",
       "    <tr style=\"text-align: right;\">\n",
       "      <th></th>\n",
       "      <th>user_id</th>\n",
       "      <th>content_id</th>\n",
       "      <th>answered_correctly</th>\n",
       "      <th>prior_question_elapsed_time</th>\n",
       "      <th>prior_question_had_explanation</th>\n",
       "      <th>user_correctness</th>\n",
       "      <th>part</th>\n",
       "      <th>content_count</th>\n",
       "    </tr>\n",
       "  </thead>\n",
       "  <tbody>\n",
       "    <tr>\n",
       "      <th>0</th>\n",
       "      <td>115</td>\n",
       "      <td>0.745495</td>\n",
       "      <td>1</td>\n",
       "      <td>0.0</td>\n",
       "      <td>False</td>\n",
       "      <td>NaN</td>\n",
       "      <td>5</td>\n",
       "      <td>36514</td>\n",
       "    </tr>\n",
       "    <tr>\n",
       "      <th>1</th>\n",
       "      <td>115</td>\n",
       "      <td>0.734901</td>\n",
       "      <td>1</td>\n",
       "      <td>37000.0</td>\n",
       "      <td>False</td>\n",
       "      <td>1.0</td>\n",
       "      <td>5</td>\n",
       "      <td>23991</td>\n",
       "    </tr>\n",
       "    <tr>\n",
       "      <th>2</th>\n",
       "      <td>115</td>\n",
       "      <td>0.966869</td>\n",
       "      <td>1</td>\n",
       "      <td>55000.0</td>\n",
       "      <td>False</td>\n",
       "      <td>1.0</td>\n",
       "      <td>1</td>\n",
       "      <td>19619</td>\n",
       "    </tr>\n",
       "    <tr>\n",
       "      <th>3</th>\n",
       "      <td>115</td>\n",
       "      <td>0.954815</td>\n",
       "      <td>1</td>\n",
       "      <td>19000.0</td>\n",
       "      <td>False</td>\n",
       "      <td>1.0</td>\n",
       "      <td>1</td>\n",
       "      <td>21733</td>\n",
       "    </tr>\n",
       "    <tr>\n",
       "      <th>4</th>\n",
       "      <td>115</td>\n",
       "      <td>0.953218</td>\n",
       "      <td>1</td>\n",
       "      <td>11000.0</td>\n",
       "      <td>False</td>\n",
       "      <td>1.0</td>\n",
       "      <td>1</td>\n",
       "      <td>19409</td>\n",
       "    </tr>\n",
       "  </tbody>\n",
       "</table>\n",
       "</div>"
      ],
      "text/plain": [
       "   user_id  content_id  answered_correctly  prior_question_elapsed_time  \\\n",
       "0      115    0.745495                   1                          0.0   \n",
       "1      115    0.734901                   1                      37000.0   \n",
       "2      115    0.966869                   1                      55000.0   \n",
       "3      115    0.954815                   1                      19000.0   \n",
       "4      115    0.953218                   1                      11000.0   \n",
       "\n",
       "   prior_question_had_explanation  user_correctness  part  content_count  \n",
       "0                           False               NaN     5          36514  \n",
       "1                           False               1.0     5          23991  \n",
       "2                           False               1.0     1          19619  \n",
       "3                           False               1.0     1          21733  \n",
       "4                           False               1.0     1          19409  "
      ]
     },
     "execution_count": 13,
     "metadata": {},
     "output_type": "execute_result"
    }
   ],
   "source": [
    "train_df.head()"
   ]
  },
  {
   "cell_type": "markdown",
   "metadata": {
    "papermill": {
     "duration": 0.025834,
     "end_time": "2020-11-30T18:23:07.227324",
     "exception": false,
     "start_time": "2020-11-30T18:23:07.201490",
     "status": "completed"
    },
    "tags": []
   },
   "source": [
    "# The LightGBM model and training process"
   ]
  },
  {
   "cell_type": "code",
   "execution_count": 14,
   "metadata": {
    "execution": {
     "iopub.execute_input": "2020-11-30T18:23:07.285530Z",
     "iopub.status.busy": "2020-11-30T18:23:07.284614Z",
     "iopub.status.idle": "2020-11-30T18:23:07.287712Z",
     "shell.execute_reply": "2020-11-30T18:23:07.287120Z"
    },
    "papermill": {
     "duration": 0.034518,
     "end_time": "2020-11-30T18:23:07.287834",
     "exception": false,
     "start_time": "2020-11-30T18:23:07.253316",
     "status": "completed"
    },
    "tags": []
   },
   "outputs": [],
   "source": [
    "#Defining the features to consider after feature engineering\n",
    "features = [\n",
    "    'content_id',\n",
    "    'prior_question_elapsed_time',\n",
    "    'prior_question_had_explanation',\n",
    "    'user_correctness',\n",
    "    'part',\n",
    "    'content_count'\n",
    "]\n",
    "\n",
    "target = 'answered_correctly'"
   ]
  },
  {
   "cell_type": "code",
   "execution_count": 15,
   "metadata": {
    "execution": {
     "iopub.execute_input": "2020-11-30T18:23:07.346131Z",
     "iopub.status.busy": "2020-11-30T18:23:07.345286Z",
     "iopub.status.idle": "2020-11-30T18:23:07.347706Z",
     "shell.execute_reply": "2020-11-30T18:23:07.348410Z"
    },
    "papermill": {
     "duration": 0.034747,
     "end_time": "2020-11-30T18:23:07.348556",
     "exception": false,
     "start_time": "2020-11-30T18:23:07.313809",
     "status": "completed"
    },
    "tags": []
   },
   "outputs": [],
   "source": [
    "#Defining LightGBM parameters\n",
    "params = {\n",
    "    'objective': 'binary',\n",
    "    #'tree_method': 'hist'\n",
    "    'seed': 42,\n",
    "    'metric': 'auc',\n",
    "    'learning_rate': 0.05,\n",
    "    'max_bin': 800,\n",
    "    'num_leaves': 100\n",
    "}"
   ]
  },
  {
   "cell_type": "code",
   "execution_count": 16,
   "metadata": {
    "execution": {
     "iopub.execute_input": "2020-11-30T18:23:07.545799Z",
     "iopub.status.busy": "2020-11-30T18:23:07.465013Z",
     "iopub.status.idle": "2020-11-30T21:10:27.703480Z",
     "shell.execute_reply": "2020-11-30T21:10:27.704956Z"
    },
    "papermill": {
     "duration": 10040.331377,
     "end_time": "2020-11-30T21:10:27.705945",
     "exception": false,
     "start_time": "2020-11-30T18:23:07.374568",
     "status": "completed"
    },
    "tags": []
   },
   "outputs": [
    {
     "name": "stdout",
     "output_type": "stream",
     "text": [
      "Training until validation scores don't improve for 50 rounds\n",
      "[50]\ttraining's auc: 0.751411\tvalid_1's auc: 0.740104\n",
      "[100]\ttraining's auc: 0.752741\tvalid_1's auc: 0.741721\n",
      "[150]\ttraining's auc: 0.753306\tvalid_1's auc: 0.742315\n",
      "[200]\ttraining's auc: 0.753623\tvalid_1's auc: 0.742546\n",
      "[250]\ttraining's auc: 0.753877\tvalid_1's auc: 0.74271\n",
      "[300]\ttraining's auc: 0.754082\tvalid_1's auc: 0.742809\n",
      "[350]\ttraining's auc: 0.75429\tvalid_1's auc: 0.742914\n",
      "[400]\ttraining's auc: 0.75448\tvalid_1's auc: 0.743007\n",
      "[450]\ttraining's auc: 0.754673\tvalid_1's auc: 0.743096\n",
      "[500]\ttraining's auc: 0.754835\tvalid_1's auc: 0.743145\n",
      "[550]\ttraining's auc: 0.754984\tvalid_1's auc: 0.743189\n",
      "[600]\ttraining's auc: 0.755143\tvalid_1's auc: 0.743235\n",
      "[650]\ttraining's auc: 0.755295\tvalid_1's auc: 0.74327\n",
      "[700]\ttraining's auc: 0.755439\tvalid_1's auc: 0.743296\n",
      "[750]\ttraining's auc: 0.75559\tvalid_1's auc: 0.743331\n",
      "[800]\ttraining's auc: 0.755734\tvalid_1's auc: 0.743355\n",
      "[850]\ttraining's auc: 0.755865\tvalid_1's auc: 0.743376\n",
      "[900]\ttraining's auc: 0.756012\tvalid_1's auc: 0.743399\n",
      "[950]\ttraining's auc: 0.756152\tvalid_1's auc: 0.743418\n",
      "[1000]\ttraining's auc: 0.756283\tvalid_1's auc: 0.74344\n",
      "[1050]\ttraining's auc: 0.756401\tvalid_1's auc: 0.743453\n",
      "[1100]\ttraining's auc: 0.756525\tvalid_1's auc: 0.74347\n",
      "[1150]\ttraining's auc: 0.756662\tvalid_1's auc: 0.74349\n",
      "[1200]\ttraining's auc: 0.756806\tvalid_1's auc: 0.74352\n",
      "[1250]\ttraining's auc: 0.756952\tvalid_1's auc: 0.74355\n",
      "[1300]\ttraining's auc: 0.757081\tvalid_1's auc: 0.743564\n",
      "[1350]\ttraining's auc: 0.757201\tvalid_1's auc: 0.743577\n",
      "[1400]\ttraining's auc: 0.75733\tvalid_1's auc: 0.743591\n",
      "[1450]\ttraining's auc: 0.757462\tvalid_1's auc: 0.743607\n",
      "[1500]\ttraining's auc: 0.757594\tvalid_1's auc: 0.743623\n",
      "[1550]\ttraining's auc: 0.757731\tvalid_1's auc: 0.743641\n",
      "[1600]\ttraining's auc: 0.757845\tvalid_1's auc: 0.743648\n",
      "[1650]\ttraining's auc: 0.757961\tvalid_1's auc: 0.743662\n",
      "[1700]\ttraining's auc: 0.758097\tvalid_1's auc: 0.743674\n",
      "[1750]\ttraining's auc: 0.758228\tvalid_1's auc: 0.743692\n",
      "[1800]\ttraining's auc: 0.758333\tvalid_1's auc: 0.743701\n",
      "[1850]\ttraining's auc: 0.75846\tvalid_1's auc: 0.74371\n",
      "[1900]\ttraining's auc: 0.758584\tvalid_1's auc: 0.743721\n",
      "[1950]\ttraining's auc: 0.758718\tvalid_1's auc: 0.743739\n",
      "[2000]\ttraining's auc: 0.758843\tvalid_1's auc: 0.743745\n",
      "[2050]\ttraining's auc: 0.75896\tvalid_1's auc: 0.743747\n",
      "[2100]\ttraining's auc: 0.759085\tvalid_1's auc: 0.743755\n",
      "[2150]\ttraining's auc: 0.759194\tvalid_1's auc: 0.743754\n",
      "[2200]\ttraining's auc: 0.759303\tvalid_1's auc: 0.743762\n",
      "[2250]\ttraining's auc: 0.759422\tvalid_1's auc: 0.743763\n",
      "[2300]\ttraining's auc: 0.759518\tvalid_1's auc: 0.743768\n",
      "[2350]\ttraining's auc: 0.75963\tvalid_1's auc: 0.743773\n",
      "[2400]\ttraining's auc: 0.759745\tvalid_1's auc: 0.743779\n",
      "[2450]\ttraining's auc: 0.759873\tvalid_1's auc: 0.743787\n",
      "[2500]\ttraining's auc: 0.759994\tvalid_1's auc: 0.743797\n",
      "[2550]\ttraining's auc: 0.760106\tvalid_1's auc: 0.743802\n",
      "[2600]\ttraining's auc: 0.760231\tvalid_1's auc: 0.74381\n",
      "[2650]\ttraining's auc: 0.760354\tvalid_1's auc: 0.743814\n",
      "[2700]\ttraining's auc: 0.760465\tvalid_1's auc: 0.743818\n",
      "[2750]\ttraining's auc: 0.760582\tvalid_1's auc: 0.743822\n",
      "[2800]\ttraining's auc: 0.760682\tvalid_1's auc: 0.743826\n",
      "[2850]\ttraining's auc: 0.760801\tvalid_1's auc: 0.743829\n",
      "Early stopping, best iteration is:\n",
      "[2805]\ttraining's auc: 0.7607\tvalid_1's auc: 0.743831\n"
     ]
    }
   ],
   "source": [
    "tr_data = lgb.Dataset(train_df[features], label=train_df[target])\n",
    "va_data = lgb.Dataset(valid_df[features], label=valid_df[target])\n",
    "\n",
    "#Training of the model\n",
    "model = lgb.train(\n",
    "    params, \n",
    "    tr_data, \n",
    "    num_boost_round=10000,\n",
    "    valid_sets=[tr_data, va_data], \n",
    "    early_stopping_rounds=50,\n",
    "    verbose_eval=50\n",
    ")\n",
    "\n",
    "#If you want to save the model\n",
    "# model.save_model(f'model.txt')"
   ]
  },
  {
   "cell_type": "markdown",
   "metadata": {
    "papermill": {
     "duration": 0.060003,
     "end_time": "2020-11-30T21:10:27.898053",
     "exception": false,
     "start_time": "2020-11-30T21:10:27.838050",
     "status": "completed"
    },
    "tags": []
   },
   "source": [
    "To see how the features selected to the training are valuable it would be nice to plot their importance for the predicition of the correctness of each user's answer"
   ]
  },
  {
   "cell_type": "code",
   "execution_count": 17,
   "metadata": {
    "execution": {
     "iopub.execute_input": "2020-11-30T21:10:28.009591Z",
     "iopub.status.busy": "2020-11-30T21:10:28.008554Z",
     "iopub.status.idle": "2020-11-30T21:10:28.314844Z",
     "shell.execute_reply": "2020-11-30T21:10:28.314168Z"
    },
    "papermill": {
     "duration": 0.36634,
     "end_time": "2020-11-30T21:10:28.314977",
     "exception": false,
     "start_time": "2020-11-30T21:10:27.948637",
     "status": "completed"
    },
    "tags": []
   },
   "outputs": [
    {
     "data": {
      "image/png": "[encoded data removed]",
      "text/plain": [
       "<Figure size 432x288 with 1 Axes>"
      ]
     },
     "metadata": {
      "needs_background": "light"
     },
     "output_type": "display_data"
    }
   ],
   "source": [
    "lgb.plot_importance(model, importance_type='gain')\n",
    "plt.show()"
   ]
  },
  {
   "cell_type": "markdown",
   "metadata": {
    "papermill": {
     "duration": 0.050948,
     "end_time": "2020-11-30T21:10:28.429888",
     "exception": false,
     "start_time": "2020-11-30T21:10:28.378940",
     "status": "completed"
    },
    "tags": []
   },
   "source": [
    "# Testing the model via EducationRiid library"
   ]
  },
  {
   "cell_type": "code",
   "execution_count": 18,
   "metadata": {
    "execution": {
     "iopub.execute_input": "2020-11-30T21:10:28.537494Z",
     "iopub.status.busy": "2020-11-30T21:10:28.536734Z",
     "iopub.status.idle": "2020-11-30T21:10:28.551390Z",
     "shell.execute_reply": "2020-11-30T21:10:28.550767Z"
    },
    "papermill": {
     "duration": 0.070456,
     "end_time": "2020-11-30T21:10:28.551511",
     "exception": false,
     "start_time": "2020-11-30T21:10:28.481055",
     "status": "completed"
    },
    "tags": []
   },
   "outputs": [],
   "source": [
    "import riiideducation"
   ]
  },
  {
   "cell_type": "code",
   "execution_count": 19,
   "metadata": {
    "execution": {
     "iopub.execute_input": "2020-11-30T21:10:28.661693Z",
     "iopub.status.busy": "2020-11-30T21:10:28.660822Z",
     "iopub.status.idle": "2020-11-30T21:10:28.664485Z",
     "shell.execute_reply": "2020-11-30T21:10:28.663272Z"
    },
    "papermill": {
     "duration": 0.061577,
     "end_time": "2020-11-30T21:10:28.664618",
     "exception": false,
     "start_time": "2020-11-30T21:10:28.603041",
     "status": "completed"
    },
    "tags": []
   },
   "outputs": [],
   "source": [
    "env = riiideducation.make_env()\n",
    "iter_test = env.iter_test()\n",
    "prior_test_df = None"
   ]
  },
  {
   "cell_type": "code",
   "execution_count": 20,
   "metadata": {
    "execution": {
     "iopub.execute_input": "2020-11-30T21:10:28.792807Z",
     "iopub.status.busy": "2020-11-30T21:10:28.792002Z",
     "iopub.status.idle": "2020-11-30T21:10:30.022660Z",
     "shell.execute_reply": "2020-11-30T21:10:30.021807Z"
    },
    "papermill": {
     "duration": 1.305972,
     "end_time": "2020-11-30T21:10:30.022800",
     "exception": false,
     "start_time": "2020-11-30T21:10:28.716828",
     "status": "completed"
    },
    "tags": []
   },
   "outputs": [],
   "source": [
    "for (test_df, sample_prediction_df) in iter_test:\n",
    "    if prior_test_df is not None:\n",
    "        prior_test_df[target] = eval(test_df['prior_group_answers_correct'].iloc[0])\n",
    "        prior_test_df = prior_test_df[prior_test_df[target] != -1].reset_index(drop=True)\n",
    "        \n",
    "        user_ids = prior_test_df['user_id'].values\n",
    "        content_ids = prior_test_df['content_id'].values\n",
    "        targets = prior_test_df[target].values\n",
    "        \n",
    "        for user_id, content_id, answered_correctly in zip(user_ids, content_ids, targets):\n",
    "            if user_id in user_agg.index:\n",
    "                user_agg.loc[user_id, 'sum'] += answered_correctly\n",
    "                user_agg.loc[user_id, 'count'] += 1\n",
    "            else:\n",
    "                user_agg.loc[user_id] = [answered_correctly, 1]\n",
    "            \n",
    "            if content_id in content_agg.index:\n",
    "                content_agg.loc[content_id, 'sum'] += answered_correctly\n",
    "                content_agg.loc[content_id, 'count'] += 1\n",
    "            else:\n",
    "                content_agg.loc[content_id] = [answered_correctly, 1]\n",
    "                \n",
    "    prior_test_df = test_df.copy()\n",
    "    \n",
    "    test_df = pd.merge(test_df, questions_df, left_on='content_id', right_on='question_id', how='left')\n",
    "    \n",
    "    test_df['prior_question_had_explanation'] = test_df['prior_question_had_explanation'].fillna(False).astype('bool')    \n",
    "    \n",
    "    test_df['user_correctness'] = test_df['user_id'].map(user_agg['sum'] / user_agg['count'])\n",
    "    \n",
    "    test_df['content_count'] = test_df['content_id'].map(content_agg['count']).fillna(1)\n",
    "    test_df['content_id'] = test_df['content_id'].map(content_agg['sum'] / content_agg['count']).fillna(0.7)\n",
    "      \n",
    "    test_df['answered_correctly'] = model.predict(test_df[features])\n",
    "    env.predict(test_df.loc[test_df['content_type_id'] == 0, ['row_id', 'answered_correctly']])"
   ]
  },
  {
   "cell_type": "markdown",
   "metadata": {
    "papermill": {
     "duration": 0.051826,
     "end_time": "2020-11-30T21:10:30.126507",
     "exception": false,
     "start_time": "2020-11-30T21:10:30.074681",
     "status": "completed"
    },
    "tags": []
   },
   "source": [
    "# Conclusion \n",
    "\n",
    "The model is showing a very important precision results but due to the large dataset it's impossible to train it with other features from the proposed datasets (train, question and lectures) also it's only trained on a part of the users (not all of them).\n",
    "Maybe it would beneficial to use more hardware resources (RAM !!!) in order to get higher performances."
   ]
  },
  {
   "cell_type": "code",
   "execution_count": null,
   "metadata": {
    "papermill": {
     "duration": 0.051023,
     "end_time": "2020-11-30T21:10:30.229052",
     "exception": false,
     "start_time": "2020-11-30T21:10:30.178029",
     "status": "completed"
    },
    "tags": []
   },
   "outputs": [],
   "source": []
  }
 ],
 "metadata": {
  "kernelspec": {
   "display_name": "Python 3",
   "language": "python",
   "name": "python3"
  },
  "language_info": {
   "codemirror_mode": {
    "name": "ipython",
    "version": 3
   },
   "file_extension": ".py",
   "mimetype": "text/x-python",
   "name": "python",
   "nbconvert_exporter": "python",
   "pygments_lexer": "ipython3",
   "version": "3.7.6"
  },
  "papermill": {
   "duration": 10252.160614,
   "end_time": "2020-11-30T21:10:30.490817",
   "environment_variables": {},
   "exception": null,
   "input_path": "__notebook__.ipynb",
   "output_path": "__notebook__.ipynb",
   "parameters": {},
   "start_time": "2020-11-30T18:19:38.330203",
   "version": "2.1.0"
  }
 },
 "nbformat": 4,
 "nbformat_minor": 4
}
