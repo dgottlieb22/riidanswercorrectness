{
 "cells": [
  {
   "cell_type": "code",
   "execution_count": 1,
   "metadata": {
    "execution": {
     "iopub.execute_input": "2020-12-07T02:27:26.800553Z",
     "iopub.status.busy": "2020-12-07T02:27:26.799635Z",
     "iopub.status.idle": "2020-12-07T02:27:27.842126Z",
     "shell.execute_reply": "2020-12-07T02:27:27.841423Z"
    },
    "papermill": {
     "duration": 1.062117,
     "end_time": "2020-12-07T02:27:27.842270",
     "exception": false,
     "start_time": "2020-12-07T02:27:26.780153",
     "status": "completed"
    },
    "tags": []
   },
   "outputs": [],
   "source": [
    "import pandas as pd\n",
    "import lightgbm as lgb\n",
    "from matplotlib import pyplot as plt"
   ]
  },
  {
   "cell_type": "code",
   "execution_count": 2,
   "metadata": {
    "execution": {
     "iopub.execute_input": "2020-12-07T02:27:27.876899Z",
     "iopub.status.busy": "2020-12-07T02:27:27.876057Z",
     "iopub.status.idle": "2020-12-07T02:28:15.373778Z",
     "shell.execute_reply": "2020-12-07T02:28:15.374552Z"
    },
    "papermill": {
     "duration": 47.518269,
     "end_time": "2020-12-07T02:28:15.374760",
     "exception": false,
     "start_time": "2020-12-07T02:27:27.856491",
     "status": "completed"
    },
    "tags": []
   },
   "outputs": [
    {
     "name": "stdout",
     "output_type": "stream",
     "text": [
      "CPU times: user 8.47 s, sys: 8.78 s, total: 17.3 s\n",
      "Wall time: 47.5 s\n"
     ]
    }
   ],
   "source": [
    "%%time\n",
    "#pickle file taken from _____ for improved loading speed\n",
    "features =  ['user_id', 'content_id', 'answered_correctly', 'prior_question_elapsed_time', 'prior_question_had_explanation']\n",
    "train_df = pd.read_pickle(\"../input/riiid-train-data-multiple-formats/riiid_train.pkl.gzip\")\n",
    "train_df = train_df[features]"
   ]
  },
  {
   "cell_type": "code",
   "execution_count": 3,
   "metadata": {
    "execution": {
     "iopub.execute_input": "2020-12-07T02:28:15.411618Z",
     "iopub.status.busy": "2020-12-07T02:28:15.410874Z",
     "iopub.status.idle": "2020-12-07T02:29:31.511632Z",
     "shell.execute_reply": "2020-12-07T02:29:31.510834Z"
    },
    "papermill": {
     "duration": 76.123235,
     "end_time": "2020-12-07T02:29:31.511780",
     "exception": false,
     "start_time": "2020-12-07T02:28:15.388545",
     "status": "completed"
    },
    "tags": []
   },
   "outputs": [],
   "source": [
    "#Eliminate rows with -1 values in the target\n",
    "train_df = train_df[train_df['answered_correctly'] != -1].reset_index(drop=True)\n",
    "#Replace null values with FALSE\n",
    "train_df.fillna(False, inplace=True)\n",
    "\n",
    "train_df['user_id'] = train_df['user_id'].astype('int32')\n",
    "train_df['content_id'] = train_df['content_id'].astype('int16')\n",
    "train_df['answered_correctly'] = train_df['answered_correctly'].astype('int8')\n",
    "train_df['prior_question_elapsed_time'] = train_df['prior_question_elapsed_time'].astype('float32')\n",
    "train_df['prior_question_had_explanation'] = train_df['prior_question_had_explanation'].astype('bool')"
   ]
  },
  {
   "cell_type": "code",
   "execution_count": 4,
   "metadata": {
    "execution": {
     "iopub.execute_input": "2020-12-07T02:29:31.548511Z",
     "iopub.status.busy": "2020-12-07T02:29:31.547121Z",
     "iopub.status.idle": "2020-12-07T02:29:49.154643Z",
     "shell.execute_reply": "2020-12-07T02:29:49.153965Z"
    },
    "papermill": {
     "duration": 17.628632,
     "end_time": "2020-12-07T02:29:49.154789",
     "exception": false,
     "start_time": "2020-12-07T02:29:31.526157",
     "status": "completed"
    },
    "tags": []
   },
   "outputs": [],
   "source": [
    "train_df['user'] = train_df.groupby('user_id')['answered_correctly'].shift()\n",
    "#Calculate ratio of correct answers of the whole answers provided by the user\n",
    "cumulated = train_df.groupby('user_id')['user'].agg(['cumsum', 'cumcount'])\n",
    "train_df['user_correctness'] = cumulated['cumsum'] / cumulated['cumcount']\n",
    "train_df.drop(columns=['user'], inplace=True)"
   ]
  },
  {
   "cell_type": "code",
   "execution_count": 5,
   "metadata": {
    "execution": {
     "iopub.execute_input": "2020-12-07T02:29:49.189882Z",
     "iopub.status.busy": "2020-12-07T02:29:49.189164Z",
     "iopub.status.idle": "2020-12-07T02:29:58.347138Z",
     "shell.execute_reply": "2020-12-07T02:29:58.346491Z"
    },
    "papermill": {
     "duration": 9.177956,
     "end_time": "2020-12-07T02:29:58.347272",
     "exception": false,
     "start_time": "2020-12-07T02:29:49.169316",
     "status": "completed"
    },
    "tags": []
   },
   "outputs": [],
   "source": [
    "user_agg = train_df.groupby('user_id')['answered_correctly'].agg(['sum', 'count'])\n",
    "content_agg = train_df.groupby('content_id')['answered_correctly'].agg(['sum', 'count'])"
   ]
  },
  {
   "cell_type": "code",
   "execution_count": 6,
   "metadata": {
    "execution": {
     "iopub.execute_input": "2020-12-07T02:29:58.381427Z",
     "iopub.status.busy": "2020-12-07T02:29:58.380653Z",
     "iopub.status.idle": "2020-12-07T02:30:05.939239Z",
     "shell.execute_reply": "2020-12-07T02:30:05.938578Z"
    },
    "papermill": {
     "duration": 7.577584,
     "end_time": "2020-12-07T02:30:05.939362",
     "exception": false,
     "start_time": "2020-12-07T02:29:58.361778",
     "status": "completed"
    },
    "tags": []
   },
   "outputs": [],
   "source": [
    "train_df = train_df.groupby('user_id').tail(60).reset_index(drop=True)"
   ]
  },
  {
   "cell_type": "code",
   "execution_count": 7,
   "metadata": {
    "execution": {
     "iopub.execute_input": "2020-12-07T02:30:05.978443Z",
     "iopub.status.busy": "2020-12-07T02:30:05.977620Z",
     "iopub.status.idle": "2020-12-07T02:30:09.022853Z",
     "shell.execute_reply": "2020-12-07T02:30:09.022230Z"
    },
    "papermill": {
     "duration": 3.069119,
     "end_time": "2020-12-07T02:30:09.022984",
     "exception": false,
     "start_time": "2020-12-07T02:30:05.953865",
     "status": "completed"
    },
    "tags": []
   },
   "outputs": [],
   "source": [
    "questions_df = pd.read_csv('../input/riiid-test-answer-prediction/questions.csv')[['question_id', 'part']]\n",
    "questions_df['question_id'] = questions_df['question_id'].astype('int16')\n",
    "questions_df['part'] = questions_df['part'].astype('int8')\n",
    "\n",
    "train_df = pd.merge(train_df, questions_df, left_on='content_id', right_on='question_id', how='left')\n",
    "train_df.drop(columns=['question_id'], inplace=True)"
   ]
  },
  {
   "cell_type": "code",
   "execution_count": 8,
   "metadata": {
    "execution": {
     "iopub.execute_input": "2020-12-07T02:30:09.060403Z",
     "iopub.status.busy": "2020-12-07T02:30:09.058970Z",
     "iopub.status.idle": "2020-12-07T02:30:09.558406Z",
     "shell.execute_reply": "2020-12-07T02:30:09.557783Z"
    },
    "papermill": {
     "duration": 0.520305,
     "end_time": "2020-12-07T02:30:09.558534",
     "exception": false,
     "start_time": "2020-12-07T02:30:09.038229",
     "status": "completed"
    },
    "tags": []
   },
   "outputs": [],
   "source": [
    "train_df['content_count'] = train_df['content_id'].map(content_agg['count']).astype('int32')\n",
    "train_df['content_id'] = train_df['content_id'].map(content_agg['sum'] / content_agg['count'])"
   ]
  },
  {
   "cell_type": "code",
   "execution_count": 9,
   "metadata": {
    "execution": {
     "iopub.execute_input": "2020-12-07T02:30:09.594886Z",
     "iopub.status.busy": "2020-12-07T02:30:09.594180Z",
     "iopub.status.idle": "2020-12-07T02:30:16.103725Z",
     "shell.execute_reply": "2020-12-07T02:30:16.103109Z"
    },
    "papermill": {
     "duration": 6.529583,
     "end_time": "2020-12-07T02:30:16.103893",
     "exception": false,
     "start_time": "2020-12-07T02:30:09.574310",
     "status": "completed"
    },
    "tags": []
   },
   "outputs": [],
   "source": [
    "valid_df = train_df.groupby('user_id').tail(15)\n",
    "train_df.drop(valid_df.index, inplace=True)"
   ]
  },
  {
   "cell_type": "code",
   "execution_count": 10,
   "metadata": {
    "execution": {
     "iopub.execute_input": "2020-12-07T02:30:16.146479Z",
     "iopub.status.busy": "2020-12-07T02:30:16.145716Z",
     "iopub.status.idle": "2020-12-07T02:30:16.157674Z",
     "shell.execute_reply": "2020-12-07T02:30:16.157116Z"
    },
    "papermill": {
     "duration": 0.038569,
     "end_time": "2020-12-07T02:30:16.157814",
     "exception": false,
     "start_time": "2020-12-07T02:30:16.119245",
     "status": "completed"
    },
    "tags": []
   },
   "outputs": [
    {
     "data": {
      "text/html": [
       "<div>\n",
       "<style scoped>\n",
       "    .dataframe tbody tr th:only-of-type {\n",
       "        vertical-align: middle;\n",
       "    }\n",
       "\n",
       "    .dataframe tbody tr th {\n",
       "        vertical-align: top;\n",
       "    }\n",
       "\n",
       "    .dataframe thead th {\n",
       "        text-align: right;\n",
       "    }\n",
       "</style>\n",
       "<table border=\"1\" class=\"dataframe\">\n",
       "  <thead>\n",
       "    <tr style=\"text-align: right;\">\n",
       "      <th></th>\n",
       "      <th>user_id</th>\n",
       "      <th>content_id</th>\n",
       "      <th>answered_correctly</th>\n",
       "      <th>prior_question_elapsed_time</th>\n",
       "      <th>prior_question_had_explanation</th>\n",
       "      <th>user_correctness</th>\n",
       "      <th>part</th>\n",
       "      <th>content_count</th>\n",
       "    </tr>\n",
       "  </thead>\n",
       "  <tbody>\n",
       "    <tr>\n",
       "      <th>0</th>\n",
       "      <td>115</td>\n",
       "      <td>0.745495</td>\n",
       "      <td>1</td>\n",
       "      <td>0.0</td>\n",
       "      <td>False</td>\n",
       "      <td>NaN</td>\n",
       "      <td>5</td>\n",
       "      <td>36514</td>\n",
       "    </tr>\n",
       "    <tr>\n",
       "      <th>1</th>\n",
       "      <td>115</td>\n",
       "      <td>0.734901</td>\n",
       "      <td>1</td>\n",
       "      <td>37000.0</td>\n",
       "      <td>False</td>\n",
       "      <td>1.0</td>\n",
       "      <td>5</td>\n",
       "      <td>23991</td>\n",
       "    </tr>\n",
       "    <tr>\n",
       "      <th>2</th>\n",
       "      <td>115</td>\n",
       "      <td>0.966869</td>\n",
       "      <td>1</td>\n",
       "      <td>55000.0</td>\n",
       "      <td>False</td>\n",
       "      <td>1.0</td>\n",
       "      <td>1</td>\n",
       "      <td>19619</td>\n",
       "    </tr>\n",
       "    <tr>\n",
       "      <th>3</th>\n",
       "      <td>115</td>\n",
       "      <td>0.954815</td>\n",
       "      <td>1</td>\n",
       "      <td>19000.0</td>\n",
       "      <td>False</td>\n",
       "      <td>1.0</td>\n",
       "      <td>1</td>\n",
       "      <td>21733</td>\n",
       "    </tr>\n",
       "    <tr>\n",
       "      <th>4</th>\n",
       "      <td>115</td>\n",
       "      <td>0.953218</td>\n",
       "      <td>1</td>\n",
       "      <td>11000.0</td>\n",
       "      <td>False</td>\n",
       "      <td>1.0</td>\n",
       "      <td>1</td>\n",
       "      <td>19409</td>\n",
       "    </tr>\n",
       "  </tbody>\n",
       "</table>\n",
       "</div>"
      ],
      "text/plain": [
       "   user_id  content_id  answered_correctly  prior_question_elapsed_time  \\\n",
       "0      115    0.745495                   1                          0.0   \n",
       "1      115    0.734901                   1                      37000.0   \n",
       "2      115    0.966869                   1                      55000.0   \n",
       "3      115    0.954815                   1                      19000.0   \n",
       "4      115    0.953218                   1                      11000.0   \n",
       "\n",
       "   prior_question_had_explanation  user_correctness  part  content_count  \n",
       "0                           False               NaN     5          36514  \n",
       "1                           False               1.0     5          23991  \n",
       "2                           False               1.0     1          19619  \n",
       "3                           False               1.0     1          21733  \n",
       "4                           False               1.0     1          19409  "
      ]
     },
     "execution_count": 10,
     "metadata": {},
     "output_type": "execute_result"
    }
   ],
   "source": [
    "train_df.head() #remove later"
   ]
  },
  {
   "cell_type": "code",
   "execution_count": 11,
   "metadata": {
    "execution": {
     "iopub.execute_input": "2020-12-07T02:30:16.196289Z",
     "iopub.status.busy": "2020-12-07T02:30:16.195321Z",
     "iopub.status.idle": "2020-12-07T02:30:16.199000Z",
     "shell.execute_reply": "2020-12-07T02:30:16.198294Z"
    },
    "papermill": {
     "duration": 0.025014,
     "end_time": "2020-12-07T02:30:16.199117",
     "exception": false,
     "start_time": "2020-12-07T02:30:16.174103",
     "status": "completed"
    },
    "tags": []
   },
   "outputs": [],
   "source": [
    "#Defining the features to consider after feature engineering\n",
    "features = [\n",
    "    'content_id',\n",
    "    'prior_question_elapsed_time',\n",
    "    'prior_question_had_explanation',\n",
    "    'user_correctness',\n",
    "    'part',\n",
    "    'content_count'\n",
    "]\n",
    "\n",
    "target = 'answered_correctly'"
   ]
  },
  {
   "cell_type": "code",
   "execution_count": 12,
   "metadata": {
    "execution": {
     "iopub.execute_input": "2020-12-07T02:30:16.237456Z",
     "iopub.status.busy": "2020-12-07T02:30:16.236429Z",
     "iopub.status.idle": "2020-12-07T02:30:16.239724Z",
     "shell.execute_reply": "2020-12-07T02:30:16.239015Z"
    },
    "papermill": {
     "duration": 0.02467,
     "end_time": "2020-12-07T02:30:16.239859",
     "exception": false,
     "start_time": "2020-12-07T02:30:16.215189",
     "status": "completed"
    },
    "tags": []
   },
   "outputs": [],
   "source": [
    "#Defining LightGBM parameters\n",
    "params = {\n",
    "    'objective': 'binary',\n",
    "    #'tree_method': 'hist'\n",
    "    'seed': 42,\n",
    "    'metric': 'auc',\n",
    "    'learning_rate': 0.15,\n",
    "    'max_bin': 800,\n",
    "    'num_leaves': 100\n",
    "}"
   ]
  },
  {
   "cell_type": "code",
   "execution_count": 13,
   "metadata": {
    "execution": {
     "iopub.execute_input": "2020-12-07T02:30:16.473564Z",
     "iopub.status.busy": "2020-12-07T02:30:16.442707Z",
     "iopub.status.idle": "2020-12-07T03:12:02.928631Z",
     "shell.execute_reply": "2020-12-07T03:12:02.929432Z"
    },
    "papermill": {
     "duration": 2506.673517,
     "end_time": "2020-12-07T03:12:02.929728",
     "exception": false,
     "start_time": "2020-12-07T02:30:16.256211",
     "status": "completed"
    },
    "tags": []
   },
   "outputs": [
    {
     "name": "stdout",
     "output_type": "stream",
     "text": [
      "Training until validation scores don't improve for 100 rounds\n",
      "[50]\ttraining's auc: 0.753264\tvalid_1's auc: 0.742269\n",
      "[100]\ttraining's auc: 0.754031\tvalid_1's auc: 0.742761\n",
      "[150]\ttraining's auc: 0.754501\tvalid_1's auc: 0.742928\n",
      "[200]\ttraining's auc: 0.755028\tvalid_1's auc: 0.743131\n",
      "[250]\ttraining's auc: 0.755446\tvalid_1's auc: 0.743213\n",
      "[300]\ttraining's auc: 0.755839\tvalid_1's auc: 0.743275\n",
      "[350]\ttraining's auc: 0.756274\tvalid_1's auc: 0.743345\n",
      "[400]\ttraining's auc: 0.756741\tvalid_1's auc: 0.743419\n",
      "[450]\ttraining's auc: 0.757128\tvalid_1's auc: 0.743453\n",
      "[500]\ttraining's auc: 0.757495\tvalid_1's auc: 0.743487\n",
      "[550]\ttraining's auc: 0.757863\tvalid_1's auc: 0.743521\n",
      "[600]\ttraining's auc: 0.758205\tvalid_1's auc: 0.743541\n",
      "[650]\ttraining's auc: 0.758566\tvalid_1's auc: 0.743574\n",
      "[700]\ttraining's auc: 0.758875\tvalid_1's auc: 0.743572\n",
      "Early stopping, best iteration is:\n",
      "[644]\ttraining's auc: 0.75853\tvalid_1's auc: 0.743577\n"
     ]
    }
   ],
   "source": [
    "tr_data = lgb.Dataset(train_df[features], label=train_df[target])\n",
    "va_data = lgb.Dataset(valid_df[features], label=valid_df[target])\n",
    "\n",
    "#Training of the model\n",
    "model = lgb.train(\n",
    "    params, \n",
    "    tr_data, \n",
    "    num_boost_round=10000,\n",
    "    valid_sets=[tr_data, va_data], \n",
    "    early_stopping_rounds=100,\n",
    "    verbose_eval=50\n",
    ")\n",
    "\n",
    "#If you want to save the model\n",
    "# model.save_model(f'model.txt')"
   ]
  },
  {
   "cell_type": "code",
   "execution_count": 14,
   "metadata": {
    "execution": {
     "iopub.execute_input": "2020-12-07T03:12:02.991021Z",
     "iopub.status.busy": "2020-12-07T03:12:02.990011Z",
     "iopub.status.idle": "2020-12-07T03:12:03.017458Z",
     "shell.execute_reply": "2020-12-07T03:12:03.018126Z"
    },
    "papermill": {
     "duration": 0.061076,
     "end_time": "2020-12-07T03:12:03.018318",
     "exception": false,
     "start_time": "2020-12-07T03:12:02.957242",
     "status": "completed"
    },
    "tags": []
   },
   "outputs": [],
   "source": [
    "import riiideducation"
   ]
  },
  {
   "cell_type": "code",
   "execution_count": 15,
   "metadata": {
    "execution": {
     "iopub.execute_input": "2020-12-07T03:12:03.082285Z",
     "iopub.status.busy": "2020-12-07T03:12:03.081341Z",
     "iopub.status.idle": "2020-12-07T03:12:03.083722Z",
     "shell.execute_reply": "2020-12-07T03:12:03.083055Z"
    },
    "papermill": {
     "duration": 0.038198,
     "end_time": "2020-12-07T03:12:03.083870",
     "exception": false,
     "start_time": "2020-12-07T03:12:03.045672",
     "status": "completed"
    },
    "tags": []
   },
   "outputs": [],
   "source": [
    "env = riiideducation.make_env()\n",
    "iter_test = env.iter_test()\n",
    "prior_test_df = None"
   ]
  },
  {
   "cell_type": "code",
   "execution_count": 16,
   "metadata": {
    "execution": {
     "iopub.execute_input": "2020-12-07T03:12:03.154138Z",
     "iopub.status.busy": "2020-12-07T03:12:03.147711Z",
     "iopub.status.idle": "2020-12-07T03:12:03.563539Z",
     "shell.execute_reply": "2020-12-07T03:12:03.562815Z"
    },
    "papermill": {
     "duration": 0.453055,
     "end_time": "2020-12-07T03:12:03.563688",
     "exception": false,
     "start_time": "2020-12-07T03:12:03.110633",
     "status": "completed"
    },
    "tags": []
   },
   "outputs": [],
   "source": [
    "for (test_df, sample_prediction_df) in iter_test:\n",
    "    if prior_test_df is not None:\n",
    "        prior_test_df[target] = eval(test_df['prior_group_answers_correct'].iloc[0])\n",
    "        prior_test_df = prior_test_df[prior_test_df[target] != -1].reset_index(drop=True)\n",
    "        \n",
    "        user_ids = prior_test_df['user_id'].values\n",
    "        content_ids = prior_test_df['content_id'].values\n",
    "        targets = prior_test_df[target].values\n",
    "        \n",
    "        for user_id, content_id, answered_correctly in zip(user_ids, content_ids, targets):\n",
    "            if user_id in user_agg.index:\n",
    "                user_agg.loc[user_id, 'sum'] += answered_correctly\n",
    "                user_agg.loc[user_id, 'count'] += 1\n",
    "            else:\n",
    "                user_agg.loc[user_id] = [answered_correctly, 1]\n",
    "            \n",
    "            if content_id in content_agg.index:\n",
    "                content_agg.loc[content_id, 'sum'] += answered_correctly\n",
    "                content_agg.loc[content_id, 'count'] += 1\n",
    "            else:\n",
    "                content_agg.loc[content_id] = [answered_correctly, 1]\n",
    "                \n",
    "    prior_test_df = test_df.copy()\n",
    "    \n",
    "    test_df = pd.merge(test_df, questions_df, left_on='content_id', right_on='question_id', how='left')\n",
    "    \n",
    "    test_df['prior_question_had_explanation'] = test_df['prior_question_had_explanation'].fillna(False).astype('bool')    \n",
    "    \n",
    "    test_df['user_correctness'] = test_df['user_id'].map(user_agg['sum'] / user_agg['count'])\n",
    "    \n",
    "    test_df['content_count'] = test_df['content_id'].map(content_agg['count']).fillna(1)\n",
    "    test_df['content_id'] = test_df['content_id'].map(content_agg['sum'] / content_agg['count']).fillna(0.7)\n",
    "      \n",
    "    test_df['answered_correctly'] = model.predict(test_df[features])\n",
    "    env.predict(test_df.loc[test_df['content_type_id'] == 0, ['row_id', 'answered_correctly']])"
   ]
  }
 ],
 "metadata": {
  "kernelspec": {
   "display_name": "Python 3",
   "language": "python",
   "name": "python3"
  },
  "language_info": {
   "codemirror_mode": {
    "name": "ipython",
    "version": 3
   },
   "file_extension": ".py",
   "mimetype": "text/x-python",
   "name": "python",
   "nbconvert_exporter": "python",
   "pygments_lexer": "ipython3",
   "version": "3.7.6"
  },
  "papermill": {
   "duration": 2681.595768,
   "end_time": "2020-12-07T03:12:03.702614",
   "environment_variables": {},
   "exception": null,
   "input_path": "__notebook__.ipynb",
   "output_path": "__notebook__.ipynb",
   "parameters": {},
   "start_time": "2020-12-07T02:27:22.106846",
   "version": "2.1.0"
  }
 },
 "nbformat": 4,
 "nbformat_minor": 4
}
