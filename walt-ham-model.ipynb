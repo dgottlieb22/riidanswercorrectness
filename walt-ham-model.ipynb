{
 "cells": [
  {
   "cell_type": "code",
   "execution_count": 1,
   "metadata": {
    "execution": {
     "iopub.execute_input": "2020-12-07T04:01:30.515061Z",
     "iopub.status.busy": "2020-12-07T04:01:30.514187Z",
     "iopub.status.idle": "2020-12-07T04:01:31.547290Z",
     "shell.execute_reply": "2020-12-07T04:01:31.546468Z"
    },
    "papermill": {
     "duration": 1.053075,
     "end_time": "2020-12-07T04:01:31.547427",
     "exception": false,
     "start_time": "2020-12-07T04:01:30.494352",
     "status": "completed"
    },
    "tags": []
   },
   "outputs": [],
   "source": [
    "import pandas as pd\n",
    "import lightgbm as lgb\n",
    "from matplotlib import pyplot as plt"
   ]
  },
  {
   "cell_type": "code",
   "execution_count": 2,
   "metadata": {
    "execution": {
     "iopub.execute_input": "2020-12-07T04:01:31.583052Z",
     "iopub.status.busy": "2020-12-07T04:01:31.582147Z",
     "iopub.status.idle": "2020-12-07T04:02:18.683680Z",
     "shell.execute_reply": "2020-12-07T04:02:18.683034Z"
    },
    "papermill": {
     "duration": 47.12173,
     "end_time": "2020-12-07T04:02:18.683799",
     "exception": false,
     "start_time": "2020-12-07T04:01:31.562069",
     "status": "completed"
    },
    "tags": []
   },
   "outputs": [
    {
     "name": "stdout",
     "output_type": "stream",
     "text": [
      "Train size: (101230332, 5)\n",
      "CPU times: user 8.45 s, sys: 8.57 s, total: 17 s\n",
      "Wall time: 47.1 s\n"
     ]
    },
    {
     "data": {
      "text/html": [
       "<div>\n",
       "<style scoped>\n",
       "    .dataframe tbody tr th:only-of-type {\n",
       "        vertical-align: middle;\n",
       "    }\n",
       "\n",
       "    .dataframe tbody tr th {\n",
       "        vertical-align: top;\n",
       "    }\n",
       "\n",
       "    .dataframe thead th {\n",
       "        text-align: right;\n",
       "    }\n",
       "</style>\n",
       "<table border=\"1\" class=\"dataframe\">\n",
       "  <thead>\n",
       "    <tr style=\"text-align: right;\">\n",
       "      <th></th>\n",
       "      <th>user_id</th>\n",
       "      <th>content_id</th>\n",
       "      <th>answered_correctly</th>\n",
       "      <th>prior_question_elapsed_time</th>\n",
       "      <th>prior_question_had_explanation</th>\n",
       "    </tr>\n",
       "  </thead>\n",
       "  <tbody>\n",
       "    <tr>\n",
       "      <th>0</th>\n",
       "      <td>115</td>\n",
       "      <td>5692</td>\n",
       "      <td>1</td>\n",
       "      <td>NaN</td>\n",
       "      <td>None</td>\n",
       "    </tr>\n",
       "    <tr>\n",
       "      <th>1</th>\n",
       "      <td>115</td>\n",
       "      <td>5716</td>\n",
       "      <td>1</td>\n",
       "      <td>37000.0</td>\n",
       "      <td>False</td>\n",
       "    </tr>\n",
       "    <tr>\n",
       "      <th>2</th>\n",
       "      <td>115</td>\n",
       "      <td>128</td>\n",
       "      <td>1</td>\n",
       "      <td>55000.0</td>\n",
       "      <td>False</td>\n",
       "    </tr>\n",
       "    <tr>\n",
       "      <th>3</th>\n",
       "      <td>115</td>\n",
       "      <td>7860</td>\n",
       "      <td>1</td>\n",
       "      <td>19000.0</td>\n",
       "      <td>False</td>\n",
       "    </tr>\n",
       "    <tr>\n",
       "      <th>4</th>\n",
       "      <td>115</td>\n",
       "      <td>7922</td>\n",
       "      <td>1</td>\n",
       "      <td>11000.0</td>\n",
       "      <td>False</td>\n",
       "    </tr>\n",
       "    <tr>\n",
       "      <th>...</th>\n",
       "      <td>...</td>\n",
       "      <td>...</td>\n",
       "      <td>...</td>\n",
       "      <td>...</td>\n",
       "      <td>...</td>\n",
       "    </tr>\n",
       "    <tr>\n",
       "      <th>101230327</th>\n",
       "      <td>2147482888</td>\n",
       "      <td>3586</td>\n",
       "      <td>1</td>\n",
       "      <td>18000.0</td>\n",
       "      <td>True</td>\n",
       "    </tr>\n",
       "    <tr>\n",
       "      <th>101230328</th>\n",
       "      <td>2147482888</td>\n",
       "      <td>6341</td>\n",
       "      <td>1</td>\n",
       "      <td>14000.0</td>\n",
       "      <td>True</td>\n",
       "    </tr>\n",
       "    <tr>\n",
       "      <th>101230329</th>\n",
       "      <td>2147482888</td>\n",
       "      <td>4212</td>\n",
       "      <td>1</td>\n",
       "      <td>14000.0</td>\n",
       "      <td>True</td>\n",
       "    </tr>\n",
       "    <tr>\n",
       "      <th>101230330</th>\n",
       "      <td>2147482888</td>\n",
       "      <td>6343</td>\n",
       "      <td>0</td>\n",
       "      <td>22000.0</td>\n",
       "      <td>True</td>\n",
       "    </tr>\n",
       "    <tr>\n",
       "      <th>101230331</th>\n",
       "      <td>2147482888</td>\n",
       "      <td>7995</td>\n",
       "      <td>1</td>\n",
       "      <td>29000.0</td>\n",
       "      <td>True</td>\n",
       "    </tr>\n",
       "  </tbody>\n",
       "</table>\n",
       "<p>101230332 rows × 5 columns</p>\n",
       "</div>"
      ],
      "text/plain": [
       "              user_id  content_id  answered_correctly  \\\n",
       "0                 115        5692                   1   \n",
       "1                 115        5716                   1   \n",
       "2                 115         128                   1   \n",
       "3                 115        7860                   1   \n",
       "4                 115        7922                   1   \n",
       "...               ...         ...                 ...   \n",
       "101230327  2147482888        3586                   1   \n",
       "101230328  2147482888        6341                   1   \n",
       "101230329  2147482888        4212                   1   \n",
       "101230330  2147482888        6343                   0   \n",
       "101230331  2147482888        7995                   1   \n",
       "\n",
       "           prior_question_elapsed_time prior_question_had_explanation  \n",
       "0                                  NaN                           None  \n",
       "1                              37000.0                          False  \n",
       "2                              55000.0                          False  \n",
       "3                              19000.0                          False  \n",
       "4                              11000.0                          False  \n",
       "...                                ...                            ...  \n",
       "101230327                      18000.0                           True  \n",
       "101230328                      14000.0                           True  \n",
       "101230329                      14000.0                           True  \n",
       "101230330                      22000.0                           True  \n",
       "101230331                      29000.0                           True  \n",
       "\n",
       "[101230332 rows x 5 columns]"
      ]
     },
     "execution_count": 2,
     "metadata": {},
     "output_type": "execute_result"
    }
   ],
   "source": [
    "%%time\n",
    "#pickle file taken from _____ for improved loading speed\n",
    "features =  ['user_id', 'content_id', 'answered_correctly', 'prior_question_elapsed_time', 'prior_question_had_explanation']\n",
    "train_df = pd.read_pickle(\"../input/riiid-train-data-multiple-formats/riiid_train.pkl.gzip\")\n",
    "train_df = train_df[features]\n",
    "print(\"Train size:\", train_df.shape)\n",
    "train_df"
   ]
  },
  {
   "cell_type": "code",
   "execution_count": 3,
   "metadata": {
    "execution": {
     "iopub.execute_input": "2020-12-07T04:02:18.723524Z",
     "iopub.status.busy": "2020-12-07T04:02:18.722744Z",
     "iopub.status.idle": "2020-12-07T04:03:34.917900Z",
     "shell.execute_reply": "2020-12-07T04:03:34.917211Z"
    },
    "papermill": {
     "duration": 76.218928,
     "end_time": "2020-12-07T04:03:34.918048",
     "exception": false,
     "start_time": "2020-12-07T04:02:18.699120",
     "status": "completed"
    },
    "tags": []
   },
   "outputs": [],
   "source": [
    "#Eliminate rows with -1 values in the target\n",
    "train_df = train_df[train_df['answered_correctly'] != -1].reset_index(drop=True)\n",
    "#Replace null values with FALSE\n",
    "train_df.fillna(False, inplace=True)\n",
    "\n",
    "train_df['user_id'] = train_df['user_id'].astype('int32')\n",
    "train_df['content_id'] = train_df['content_id'].astype('int16')\n",
    "train_df['answered_correctly'] = train_df['answered_correctly'].astype('int8')\n",
    "train_df['prior_question_elapsed_time'] = train_df['prior_question_elapsed_time'].astype('float32')\n",
    "train_df['prior_question_had_explanation'] = train_df['prior_question_had_explanation'].astype('bool')\n"
   ]
  },
  {
   "cell_type": "code",
   "execution_count": 4,
   "metadata": {
    "execution": {
     "iopub.execute_input": "2020-12-07T04:03:34.961116Z",
     "iopub.status.busy": "2020-12-07T04:03:34.960266Z",
     "iopub.status.idle": "2020-12-07T04:03:53.196551Z",
     "shell.execute_reply": "2020-12-07T04:03:53.195874Z"
    },
    "papermill": {
     "duration": 18.262482,
     "end_time": "2020-12-07T04:03:53.196695",
     "exception": false,
     "start_time": "2020-12-07T04:03:34.934213",
     "status": "completed"
    },
    "tags": []
   },
   "outputs": [],
   "source": [
    "train_df['user'] = train_df.groupby('user_id')['answered_correctly'].shift()\n",
    "#Calculate ratio of correct answers of the whole answers provided by the user\n",
    "cumulated = train_df.groupby('user_id')['user'].agg(['cumsum', 'cumcount'])\n",
    "train_df['user_correctness'] = cumulated['cumsum'] / cumulated['cumcount']\n",
    "train_df.drop(columns=['user'], inplace=True)"
   ]
  },
  {
   "cell_type": "code",
   "execution_count": 5,
   "metadata": {
    "execution": {
     "iopub.execute_input": "2020-12-07T04:03:53.241724Z",
     "iopub.status.busy": "2020-12-07T04:03:53.240563Z",
     "iopub.status.idle": "2020-12-07T04:03:53.245050Z",
     "shell.execute_reply": "2020-12-07T04:03:53.244443Z"
    },
    "papermill": {
     "duration": 0.032823,
     "end_time": "2020-12-07T04:03:53.245173",
     "exception": false,
     "start_time": "2020-12-07T04:03:53.212350",
     "status": "completed"
    },
    "tags": []
   },
   "outputs": [
    {
     "data": {
      "text/html": [
       "<div>\n",
       "<style scoped>\n",
       "    .dataframe tbody tr th:only-of-type {\n",
       "        vertical-align: middle;\n",
       "    }\n",
       "\n",
       "    .dataframe tbody tr th {\n",
       "        vertical-align: top;\n",
       "    }\n",
       "\n",
       "    .dataframe thead th {\n",
       "        text-align: right;\n",
       "    }\n",
       "</style>\n",
       "<table border=\"1\" class=\"dataframe\">\n",
       "  <thead>\n",
       "    <tr style=\"text-align: right;\">\n",
       "      <th></th>\n",
       "      <th>user_id</th>\n",
       "      <th>content_id</th>\n",
       "      <th>answered_correctly</th>\n",
       "      <th>prior_question_elapsed_time</th>\n",
       "      <th>prior_question_had_explanation</th>\n",
       "      <th>user_correctness</th>\n",
       "    </tr>\n",
       "  </thead>\n",
       "  <tbody>\n",
       "    <tr>\n",
       "      <th>0</th>\n",
       "      <td>115</td>\n",
       "      <td>5692</td>\n",
       "      <td>1</td>\n",
       "      <td>0.0</td>\n",
       "      <td>False</td>\n",
       "      <td>NaN</td>\n",
       "    </tr>\n",
       "    <tr>\n",
       "      <th>1</th>\n",
       "      <td>115</td>\n",
       "      <td>5716</td>\n",
       "      <td>1</td>\n",
       "      <td>37000.0</td>\n",
       "      <td>False</td>\n",
       "      <td>1.0</td>\n",
       "    </tr>\n",
       "    <tr>\n",
       "      <th>2</th>\n",
       "      <td>115</td>\n",
       "      <td>128</td>\n",
       "      <td>1</td>\n",
       "      <td>55000.0</td>\n",
       "      <td>False</td>\n",
       "      <td>1.0</td>\n",
       "    </tr>\n",
       "    <tr>\n",
       "      <th>3</th>\n",
       "      <td>115</td>\n",
       "      <td>7860</td>\n",
       "      <td>1</td>\n",
       "      <td>19000.0</td>\n",
       "      <td>False</td>\n",
       "      <td>1.0</td>\n",
       "    </tr>\n",
       "    <tr>\n",
       "      <th>4</th>\n",
       "      <td>115</td>\n",
       "      <td>7922</td>\n",
       "      <td>1</td>\n",
       "      <td>11000.0</td>\n",
       "      <td>False</td>\n",
       "      <td>1.0</td>\n",
       "    </tr>\n",
       "  </tbody>\n",
       "</table>\n",
       "</div>"
      ],
      "text/plain": [
       "   user_id  content_id  answered_correctly  prior_question_elapsed_time  \\\n",
       "0      115        5692                   1                          0.0   \n",
       "1      115        5716                   1                      37000.0   \n",
       "2      115         128                   1                      55000.0   \n",
       "3      115        7860                   1                      19000.0   \n",
       "4      115        7922                   1                      11000.0   \n",
       "\n",
       "   prior_question_had_explanation  user_correctness  \n",
       "0                           False               NaN  \n",
       "1                           False               1.0  \n",
       "2                           False               1.0  \n",
       "3                           False               1.0  \n",
       "4                           False               1.0  "
      ]
     },
     "execution_count": 5,
     "metadata": {},
     "output_type": "execute_result"
    }
   ],
   "source": [
    "train_df.head()"
   ]
  },
  {
   "cell_type": "code",
   "execution_count": 6,
   "metadata": {
    "execution": {
     "iopub.execute_input": "2020-12-07T04:03:53.285398Z",
     "iopub.status.busy": "2020-12-07T04:03:53.284584Z",
     "iopub.status.idle": "2020-12-07T04:04:02.710819Z",
     "shell.execute_reply": "2020-12-07T04:04:02.710135Z"
    },
    "papermill": {
     "duration": 9.449115,
     "end_time": "2020-12-07T04:04:02.710947",
     "exception": false,
     "start_time": "2020-12-07T04:03:53.261832",
     "status": "completed"
    },
    "tags": []
   },
   "outputs": [],
   "source": [
    "user_agg = train_df.groupby('user_id')['answered_correctly'].agg(['sum', 'count'])\n",
    "content_agg = train_df.groupby('content_id')['answered_correctly'].agg(['sum', 'count'])"
   ]
  },
  {
   "cell_type": "code",
   "execution_count": 7,
   "metadata": {
    "execution": {
     "iopub.execute_input": "2020-12-07T04:04:02.749571Z",
     "iopub.status.busy": "2020-12-07T04:04:02.748803Z",
     "iopub.status.idle": "2020-12-07T04:04:10.207071Z",
     "shell.execute_reply": "2020-12-07T04:04:10.207683Z"
    },
    "papermill": {
     "duration": 7.480458,
     "end_time": "2020-12-07T04:04:10.207865",
     "exception": false,
     "start_time": "2020-12-07T04:04:02.727407",
     "status": "completed"
    },
    "tags": []
   },
   "outputs": [],
   "source": [
    "train_df = train_df.groupby('user_id').tail(50).reset_index(drop=True)"
   ]
  },
  {
   "cell_type": "code",
   "execution_count": 8,
   "metadata": {
    "execution": {
     "iopub.execute_input": "2020-12-07T04:04:10.255421Z",
     "iopub.status.busy": "2020-12-07T04:04:10.254652Z",
     "iopub.status.idle": "2020-12-07T04:04:13.040485Z",
     "shell.execute_reply": "2020-12-07T04:04:13.039653Z"
    },
    "papermill": {
     "duration": 2.81598,
     "end_time": "2020-12-07T04:04:13.040630",
     "exception": false,
     "start_time": "2020-12-07T04:04:10.224650",
     "status": "completed"
    },
    "tags": []
   },
   "outputs": [],
   "source": [
    "questions_df = pd.read_csv('../input/riiid-test-answer-prediction/questions.csv')[['question_id', 'part']]\n",
    "questions_df['question_id'] = questions_df['question_id'].astype('int16')\n",
    "questions_df['part'] = questions_df['part'].astype('int8')\n",
    "\n",
    "train_df = pd.merge(train_df, questions_df, left_on='content_id', right_on='question_id', how='left')\n",
    "train_df.drop(columns=['question_id'], inplace=True)"
   ]
  },
  {
   "cell_type": "code",
   "execution_count": 9,
   "metadata": {
    "execution": {
     "iopub.execute_input": "2020-12-07T04:04:13.080785Z",
     "iopub.status.busy": "2020-12-07T04:04:13.080027Z",
     "iopub.status.idle": "2020-12-07T04:04:13.562863Z",
     "shell.execute_reply": "2020-12-07T04:04:13.562182Z"
    },
    "papermill": {
     "duration": 0.50559,
     "end_time": "2020-12-07T04:04:13.562982",
     "exception": false,
     "start_time": "2020-12-07T04:04:13.057392",
     "status": "completed"
    },
    "tags": []
   },
   "outputs": [],
   "source": [
    "train_df['content_count'] = train_df['content_id'].map(content_agg['count']).astype('int32')\n",
    "train_df['content_id'] = train_df['content_id'].map(content_agg['sum'] / content_agg['count'])"
   ]
  },
  {
   "cell_type": "code",
   "execution_count": 10,
   "metadata": {
    "execution": {
     "iopub.execute_input": "2020-12-07T04:04:13.604019Z",
     "iopub.status.busy": "2020-12-07T04:04:13.602592Z",
     "iopub.status.idle": "2020-12-07T04:04:19.888365Z",
     "shell.execute_reply": "2020-12-07T04:04:19.887585Z"
    },
    "papermill": {
     "duration": 6.308517,
     "end_time": "2020-12-07T04:04:19.888503",
     "exception": false,
     "start_time": "2020-12-07T04:04:13.579986",
     "status": "completed"
    },
    "tags": []
   },
   "outputs": [],
   "source": [
    "valid_df = train_df.groupby('user_id').tail(15)\n",
    "train_df.drop(valid_df.index, inplace=True)"
   ]
  },
  {
   "cell_type": "code",
   "execution_count": 11,
   "metadata": {
    "execution": {
     "iopub.execute_input": "2020-12-07T04:04:19.937956Z",
     "iopub.status.busy": "2020-12-07T04:04:19.936904Z",
     "iopub.status.idle": "2020-12-07T04:04:19.941611Z",
     "shell.execute_reply": "2020-12-07T04:04:19.941039Z"
    },
    "papermill": {
     "duration": 0.035793,
     "end_time": "2020-12-07T04:04:19.941736",
     "exception": false,
     "start_time": "2020-12-07T04:04:19.905943",
     "status": "completed"
    },
    "tags": []
   },
   "outputs": [
    {
     "data": {
      "text/html": [
       "<div>\n",
       "<style scoped>\n",
       "    .dataframe tbody tr th:only-of-type {\n",
       "        vertical-align: middle;\n",
       "    }\n",
       "\n",
       "    .dataframe tbody tr th {\n",
       "        vertical-align: top;\n",
       "    }\n",
       "\n",
       "    .dataframe thead th {\n",
       "        text-align: right;\n",
       "    }\n",
       "</style>\n",
       "<table border=\"1\" class=\"dataframe\">\n",
       "  <thead>\n",
       "    <tr style=\"text-align: right;\">\n",
       "      <th></th>\n",
       "      <th>user_id</th>\n",
       "      <th>content_id</th>\n",
       "      <th>answered_correctly</th>\n",
       "      <th>prior_question_elapsed_time</th>\n",
       "      <th>prior_question_had_explanation</th>\n",
       "      <th>user_correctness</th>\n",
       "      <th>part</th>\n",
       "      <th>content_count</th>\n",
       "    </tr>\n",
       "  </thead>\n",
       "  <tbody>\n",
       "    <tr>\n",
       "      <th>0</th>\n",
       "      <td>115</td>\n",
       "      <td>0.745495</td>\n",
       "      <td>1</td>\n",
       "      <td>0.0</td>\n",
       "      <td>False</td>\n",
       "      <td>NaN</td>\n",
       "      <td>5</td>\n",
       "      <td>36514</td>\n",
       "    </tr>\n",
       "    <tr>\n",
       "      <th>1</th>\n",
       "      <td>115</td>\n",
       "      <td>0.734901</td>\n",
       "      <td>1</td>\n",
       "      <td>37000.0</td>\n",
       "      <td>False</td>\n",
       "      <td>1.0</td>\n",
       "      <td>5</td>\n",
       "      <td>23991</td>\n",
       "    </tr>\n",
       "    <tr>\n",
       "      <th>2</th>\n",
       "      <td>115</td>\n",
       "      <td>0.966869</td>\n",
       "      <td>1</td>\n",
       "      <td>55000.0</td>\n",
       "      <td>False</td>\n",
       "      <td>1.0</td>\n",
       "      <td>1</td>\n",
       "      <td>19619</td>\n",
       "    </tr>\n",
       "    <tr>\n",
       "      <th>3</th>\n",
       "      <td>115</td>\n",
       "      <td>0.954815</td>\n",
       "      <td>1</td>\n",
       "      <td>19000.0</td>\n",
       "      <td>False</td>\n",
       "      <td>1.0</td>\n",
       "      <td>1</td>\n",
       "      <td>21733</td>\n",
       "    </tr>\n",
       "    <tr>\n",
       "      <th>4</th>\n",
       "      <td>115</td>\n",
       "      <td>0.953218</td>\n",
       "      <td>1</td>\n",
       "      <td>11000.0</td>\n",
       "      <td>False</td>\n",
       "      <td>1.0</td>\n",
       "      <td>1</td>\n",
       "      <td>19409</td>\n",
       "    </tr>\n",
       "  </tbody>\n",
       "</table>\n",
       "</div>"
      ],
      "text/plain": [
       "   user_id  content_id  answered_correctly  prior_question_elapsed_time  \\\n",
       "0      115    0.745495                   1                          0.0   \n",
       "1      115    0.734901                   1                      37000.0   \n",
       "2      115    0.966869                   1                      55000.0   \n",
       "3      115    0.954815                   1                      19000.0   \n",
       "4      115    0.953218                   1                      11000.0   \n",
       "\n",
       "   prior_question_had_explanation  user_correctness  part  content_count  \n",
       "0                           False               NaN     5          36514  \n",
       "1                           False               1.0     5          23991  \n",
       "2                           False               1.0     1          19619  \n",
       "3                           False               1.0     1          21733  \n",
       "4                           False               1.0     1          19409  "
      ]
     },
     "execution_count": 11,
     "metadata": {},
     "output_type": "execute_result"
    }
   ],
   "source": [
    "train_df.head() #remove later"
   ]
  },
  {
   "cell_type": "code",
   "execution_count": 12,
   "metadata": {
    "execution": {
     "iopub.execute_input": "2020-12-07T04:04:19.983189Z",
     "iopub.status.busy": "2020-12-07T04:04:19.982455Z",
     "iopub.status.idle": "2020-12-07T04:04:19.985506Z",
     "shell.execute_reply": "2020-12-07T04:04:19.984823Z"
    },
    "papermill": {
     "duration": 0.026011,
     "end_time": "2020-12-07T04:04:19.985639",
     "exception": false,
     "start_time": "2020-12-07T04:04:19.959628",
     "status": "completed"
    },
    "tags": []
   },
   "outputs": [],
   "source": [
    "#Defining the features to consider after feature engineering\n",
    "features = [\n",
    "    'content_id',\n",
    "    'prior_question_elapsed_time',\n",
    "    'prior_question_had_explanation',\n",
    "    'user_correctness',\n",
    "    'part',\n",
    "    'content_count'\n",
    "]\n",
    "\n",
    "target = 'answered_correctly'"
   ]
  },
  {
   "cell_type": "code",
   "execution_count": 13,
   "metadata": {
    "execution": {
     "iopub.execute_input": "2020-12-07T04:04:20.028254Z",
     "iopub.status.busy": "2020-12-07T04:04:20.027461Z",
     "iopub.status.idle": "2020-12-07T04:04:20.030396Z",
     "shell.execute_reply": "2020-12-07T04:04:20.029712Z"
    },
    "papermill": {
     "duration": 0.026611,
     "end_time": "2020-12-07T04:04:20.030516",
     "exception": false,
     "start_time": "2020-12-07T04:04:20.003905",
     "status": "completed"
    },
    "tags": []
   },
   "outputs": [],
   "source": [
    "#Defining LightGBM parameters\n",
    "params = {\n",
    "    'objective': 'binary',\n",
    "    #'tree_method': 'hist'\n",
    "    'seed': 42,\n",
    "    'metric': 'auc',\n",
    "#     'learning_rate': 0.07,\n",
    "    'learning_rate: 0.15'\n",
    "    'max_bin': 800,\n",
    "    'num_leaves': 100\n",
    "}"
   ]
  },
  {
   "cell_type": "code",
   "execution_count": 14,
   "metadata": {
    "execution": {
     "iopub.execute_input": "2020-12-07T04:04:20.288629Z",
     "iopub.status.busy": "2020-12-07T04:04:20.201958Z",
     "iopub.status.idle": "2020-12-07T04:37:35.842474Z",
     "shell.execute_reply": "2020-12-07T04:37:35.843807Z"
    },
    "papermill": {
     "duration": 1995.795305,
     "end_time": "2020-12-07T04:37:35.844218",
     "exception": false,
     "start_time": "2020-12-07T04:04:20.048913",
     "status": "completed"
    },
    "tags": []
   },
   "outputs": [
    {
     "name": "stdout",
     "output_type": "stream",
     "text": [
      "Training until validation scores don't improve for 10 rounds\n",
      "[50]\ttraining's auc: 0.753427\tvalid_1's auc: 0.741727\n",
      "[100]\ttraining's auc: 0.754306\tvalid_1's auc: 0.742483\n",
      "[150]\ttraining's auc: 0.75472\tvalid_1's auc: 0.742678\n",
      "[200]\ttraining's auc: 0.755108\tvalid_1's auc: 0.742813\n",
      "[250]\ttraining's auc: 0.755455\tvalid_1's auc: 0.742918\n",
      "[300]\ttraining's auc: 0.755791\tvalid_1's auc: 0.743009\n",
      "[350]\ttraining's auc: 0.756114\tvalid_1's auc: 0.743083\n",
      "[400]\ttraining's auc: 0.756446\tvalid_1's auc: 0.743143\n",
      "[450]\ttraining's auc: 0.756759\tvalid_1's auc: 0.743191\n",
      "[500]\ttraining's auc: 0.757063\tvalid_1's auc: 0.743242\n",
      "[550]\ttraining's auc: 0.757348\tvalid_1's auc: 0.743279\n",
      "[600]\ttraining's auc: 0.757657\tvalid_1's auc: 0.743312\n",
      "[650]\ttraining's auc: 0.757952\tvalid_1's auc: 0.743348\n",
      "Early stopping, best iteration is:\n",
      "[663]\ttraining's auc: 0.758014\tvalid_1's auc: 0.743354\n"
     ]
    }
   ],
   "source": [
    "tr_data = lgb.Dataset(train_df[features], label=train_df[target])\n",
    "va_data = lgb.Dataset(valid_df[features], label=valid_df[target])\n",
    "\n",
    "#Training of the model\n",
    "model = lgb.train(\n",
    "    params, \n",
    "    tr_data, \n",
    "    num_boost_round=12000,\n",
    "    valid_sets=[tr_data, va_data], \n",
    "    early_stopping_rounds=10,\n",
    "    verbose_eval=50\n",
    ")\n",
    "# original early_stopping_rounds 100\n",
    "\n",
    "#If you want to save the model\n",
    "# model.save_model(f'model.txt')"
   ]
  },
  {
   "cell_type": "code",
   "execution_count": 15,
   "metadata": {
    "execution": {
     "iopub.execute_input": "2020-12-07T04:37:35.909303Z",
     "iopub.status.busy": "2020-12-07T04:37:35.908323Z",
     "iopub.status.idle": "2020-12-07T04:37:35.938970Z",
     "shell.execute_reply": "2020-12-07T04:37:35.939636Z"
    },
    "papermill": {
     "duration": 0.065978,
     "end_time": "2020-12-07T04:37:35.939840",
     "exception": false,
     "start_time": "2020-12-07T04:37:35.873862",
     "status": "completed"
    },
    "tags": []
   },
   "outputs": [],
   "source": [
    "import riiideducation"
   ]
  },
  {
   "cell_type": "code",
   "execution_count": 16,
   "metadata": {
    "execution": {
     "iopub.execute_input": "2020-12-07T04:37:36.008183Z",
     "iopub.status.busy": "2020-12-07T04:37:36.007228Z",
     "iopub.status.idle": "2020-12-07T04:37:36.009662Z",
     "shell.execute_reply": "2020-12-07T04:37:36.008969Z"
    },
    "papermill": {
     "duration": 0.040472,
     "end_time": "2020-12-07T04:37:36.009794",
     "exception": false,
     "start_time": "2020-12-07T04:37:35.969322",
     "status": "completed"
    },
    "tags": []
   },
   "outputs": [],
   "source": [
    "env = riiideducation.make_env()\n",
    "iter_test = env.iter_test()\n",
    "prior_test_df = None"
   ]
  },
  {
   "cell_type": "code",
   "execution_count": 17,
   "metadata": {
    "execution": {
     "iopub.execute_input": "2020-12-07T04:37:36.086805Z",
     "iopub.status.busy": "2020-12-07T04:37:36.085862Z",
     "iopub.status.idle": "2020-12-07T04:37:36.508512Z",
     "shell.execute_reply": "2020-12-07T04:37:36.507800Z"
    },
    "papermill": {
     "duration": 0.471314,
     "end_time": "2020-12-07T04:37:36.508683",
     "exception": false,
     "start_time": "2020-12-07T04:37:36.037369",
     "status": "completed"
    },
    "tags": []
   },
   "outputs": [],
   "source": [
    "for (test_df, sample_prediction_df) in iter_test:\n",
    "    if prior_test_df is not None:\n",
    "        prior_test_df[target] = eval(test_df['prior_group_answers_correct'].iloc[0])\n",
    "        prior_test_df = prior_test_df[prior_test_df[target] != -1].reset_index(drop=True)\n",
    "        \n",
    "        user_ids = prior_test_df['user_id'].values\n",
    "        content_ids = prior_test_df['content_id'].values\n",
    "        targets = prior_test_df[target].values\n",
    "        \n",
    "        for user_id, content_id, answered_correctly in zip(user_ids, content_ids, targets):\n",
    "            if user_id in user_agg.index:\n",
    "                user_agg.loc[user_id, 'sum'] += answered_correctly\n",
    "                user_agg.loc[user_id, 'count'] += 1\n",
    "            else:\n",
    "                user_agg.loc[user_id] = [answered_correctly, 1]\n",
    "            \n",
    "            if content_id in content_agg.index:\n",
    "                content_agg.loc[content_id, 'sum'] += answered_correctly\n",
    "                content_agg.loc[content_id, 'count'] += 1\n",
    "            else:\n",
    "                content_agg.loc[content_id] = [answered_correctly, 1]\n",
    "                \n",
    "    prior_test_df = test_df.copy()\n",
    "    \n",
    "    test_df = pd.merge(test_df, questions_df, left_on='content_id', right_on='question_id', how='left')\n",
    "    \n",
    "    test_df['prior_question_had_explanation'] = test_df['prior_question_had_explanation'].fillna(False).astype('bool')    \n",
    "    \n",
    "    test_df['user_correctness'] = test_df['user_id'].map(user_agg['sum'] / user_agg['count'])\n",
    "    \n",
    "    test_df['content_count'] = test_df['content_id'].map(content_agg['count']).fillna(1)\n",
    "    test_df['content_id'] = test_df['content_id'].map(content_agg['sum'] / content_agg['count']).fillna(0.7)\n",
    "      \n",
    "    test_df['answered_correctly'] = model.predict(test_df[features])\n",
    "    env.predict(test_df.loc[test_df['content_type_id'] == 0, ['row_id', 'answered_correctly']])"
   ]
  }
 ],
 "metadata": {
  "kernelspec": {
   "display_name": "Python 3",
   "language": "python",
   "name": "python3"
  },
  "language_info": {
   "codemirror_mode": {
    "name": "ipython",
    "version": 3
   },
   "file_extension": ".py",
   "mimetype": "text/x-python",
   "name": "python",
   "nbconvert_exporter": "python",
   "pygments_lexer": "ipython3",
   "version": "3.7.6"
  },
  "papermill": {
   "duration": 2170.991264,
   "end_time": "2020-12-07T04:37:36.748256",
   "environment_variables": {},
   "exception": null,
   "input_path": "__notebook__.ipynb",
   "output_path": "__notebook__.ipynb",
   "parameters": {},
   "start_time": "2020-12-07T04:01:25.756992",
   "version": "2.1.0"
  }
 },
 "nbformat": 4,
 "nbformat_minor": 4
}
